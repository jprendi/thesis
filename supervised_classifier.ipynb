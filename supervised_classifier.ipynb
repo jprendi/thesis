{
 "cells": [
  {
   "cell_type": "code",
   "execution_count": 1,
   "metadata": {},
   "outputs": [
    {
     "name": "stderr",
     "output_type": "stream",
     "text": [
      "2024-03-20 15:27:40.618405: I tensorflow/core/platform/cpu_feature_guard.cc:193] This TensorFlow binary is optimized with oneAPI Deep Neural Network Library (oneDNN) to use the following CPU instructions in performance-critical operations:  SSE4.1 SSE4.2 AVX AVX2 FMA\n",
      "To enable them in other operations, rebuild TensorFlow with the appropriate compiler flags.\n"
     ]
    }
   ],
   "source": [
    "from tensorflow.keras.utils import to_categorical\n",
    "from sklearn.datasets import fetch_openml\n",
    "from sklearn.model_selection import train_test_split\n",
    "from sklearn.preprocessing import LabelEncoder, StandardScaler\n",
    "import numpy as np"
   ]
  },
  {
   "cell_type": "code",
   "execution_count": 2,
   "metadata": {},
   "outputs": [],
   "source": [
    "%matplotlib inline\n",
    "seed = 1\n",
    "np.random.seed(seed)\n",
    "import tensorflow as tf"
   ]
  },
  {
   "cell_type": "code",
   "execution_count": 3,
   "metadata": {},
   "outputs": [],
   "source": [
    "from stuff.callbacks import all_callbacks\n",
    "from stuff import plotting"
   ]
  },
  {
   "cell_type": "code",
   "execution_count": 4,
   "metadata": {},
   "outputs": [],
   "source": [
    "tf.random.set_seed(seed)"
   ]
  },
  {
   "cell_type": "code",
   "execution_count": 5,
   "metadata": {},
   "outputs": [],
   "source": [
    "from scripts import dataset"
   ]
  },
  {
   "cell_type": "code",
   "execution_count": 6,
   "metadata": {},
   "outputs": [],
   "source": [
    "bkg = dataset.load_dataset(dataset='NuGun_preprocessed.h5', key='full_data_cyl')\n",
    "sig = dataset.load_dataset(dataset='BSM_preprocessed.h5', key='ttHto2B')"
   ]
  },
  {
   "cell_type": "code",
   "execution_count": 51,
   "metadata": {},
   "outputs": [],
   "source": [
    "x = np.concatenate((bkg, sig))\n",
    "y = np.concatenate((np.zeros((len(bkg), 1)), np.ones((len(sig), 1))))\n"
   ]
  },
  {
   "cell_type": "code",
   "execution_count": 54,
   "metadata": {},
   "outputs": [
    {
     "data": {
      "text/plain": [
       "(12387750, 2)"
      ]
     },
     "execution_count": 54,
     "metadata": {},
     "output_type": "execute_result"
    }
   ],
   "source": [
    "np.shape(y)"
   ]
  },
  {
   "cell_type": "code",
   "execution_count": 60,
   "metadata": {},
   "outputs": [
    {
     "data": {
      "text/plain": [
       "array([0., 1., 1., ..., 1., 1., 1.], dtype=float32)"
      ]
     },
     "execution_count": 60,
     "metadata": {},
     "output_type": "execute_result"
    }
   ],
   "source": [
    "y_test[:,0]"
   ]
  },
  {
   "cell_type": "code",
   "execution_count": 53,
   "metadata": {},
   "outputs": [
    {
     "name": "stderr",
     "output_type": "stream",
     "text": [
      "/Users/jessicaprendi/opt/anaconda3/envs/SP/lib/python3.10/site-packages/sklearn/preprocessing/_label.py:114: DataConversionWarning: A column-vector y was passed when a 1d array was expected. Please change the shape of y to (n_samples, ), for example using ravel().\n",
      "  y = column_or_1d(y, warn=True)\n"
     ]
    }
   ],
   "source": [
    "le = LabelEncoder()\n",
    "y = le.fit_transform(y)\n",
    "y = to_categorical(y)\n",
    "X_train_val, X_test, y_train_val, y_test = train_test_split(x, y, test_size=0.2, random_state=1)"
   ]
  },
  {
   "cell_type": "code",
   "execution_count": 29,
   "metadata": {},
   "outputs": [],
   "source": [
    "scaler = StandardScaler()\n",
    "X_train_val = scaler.fit_transform(X_train_val)\n",
    "X_test = scaler.transform(X_test)"
   ]
  },
  {
   "cell_type": "code",
   "execution_count": 30,
   "metadata": {},
   "outputs": [],
   "source": [
    "from tensorflow.keras.models import Sequential\n",
    "from tensorflow.keras.layers import Dense, Activation, BatchNormalization\n",
    "from tensorflow.keras.optimizers import Adam\n",
    "from tensorflow.keras.regularizers import l1"
   ]
  },
  {
   "cell_type": "code",
   "execution_count": 31,
   "metadata": {},
   "outputs": [
    {
     "name": "stderr",
     "output_type": "stream",
     "text": [
      "2024-03-20 16:40:21.417036: I tensorflow/core/platform/cpu_feature_guard.cc:193] This TensorFlow binary is optimized with oneAPI Deep Neural Network Library (oneDNN) to use the following CPU instructions in performance-critical operations:  SSE4.1 SSE4.2 AVX AVX2 FMA\n",
      "To enable them in other operations, rebuild TensorFlow with the appropriate compiler flags.\n"
     ]
    }
   ],
   "source": [
    "model = Sequential()\n",
    "model.add(Dense(64, input_shape=(99,), name='fc1', kernel_initializer='lecun_uniform', kernel_regularizer=l1(0.0001)))\n",
    "model.add(Activation(activation='relu', name='relu1'))\n",
    "model.add(Dense(32, name='fc2', kernel_initializer='lecun_uniform', kernel_regularizer=l1(0.0001)))\n",
    "model.add(Activation(activation='relu', name='relu2'))\n",
    "model.add(Dense(32, name='fc3', kernel_initializer='lecun_uniform', kernel_regularizer=l1(0.0001)))\n",
    "model.add(Activation(activation='relu', name='relu3'))\n",
    "model.add(Dense(2, name='output', kernel_initializer='lecun_uniform', kernel_regularizer=l1(0.0001)))\n",
    "model.add(Activation(activation='softmax', name='softmax'))"
   ]
  },
  {
   "cell_type": "code",
   "execution_count": 32,
   "metadata": {},
   "outputs": [
    {
     "name": "stderr",
     "output_type": "stream",
     "text": [
      "WARNING:absl:`lr` is deprecated, please use `learning_rate` instead, or use the legacy optimizer, e.g.,tf.keras.optimizers.legacy.Adam.\n"
     ]
    },
    {
     "name": "stdout",
     "output_type": "stream",
     "text": [
      "WARNING:tensorflow:`epsilon` argument is deprecated and will be removed, use `min_delta` instead.\n"
     ]
    },
    {
     "name": "stderr",
     "output_type": "stream",
     "text": [
      "WARNING:tensorflow:`epsilon` argument is deprecated and will be removed, use `min_delta` instead.\n"
     ]
    },
    {
     "name": "stdout",
     "output_type": "stream",
     "text": [
      "WARNING:tensorflow:`period` argument is deprecated. Please use `save_freq` to specify the frequency in number of batches seen.\n"
     ]
    },
    {
     "name": "stderr",
     "output_type": "stream",
     "text": [
      "WARNING:tensorflow:`period` argument is deprecated. Please use `save_freq` to specify the frequency in number of batches seen.\n"
     ]
    },
    {
     "name": "stdout",
     "output_type": "stream",
     "text": [
      "Epoch 1/30\n",
      "   1/7259 [..............................] - ETA: 3:36:42 - loss: 0.8093 - accuracy: 0.3486WARNING:tensorflow:Callback method `on_train_batch_end` is slow compared to the batch time (batch time: 0.0041s vs `on_train_batch_end` time: 0.0055s). Check your callbacks.\n"
     ]
    },
    {
     "name": "stderr",
     "output_type": "stream",
     "text": [
      "WARNING:tensorflow:Callback method `on_train_batch_end` is slow compared to the batch time (batch time: 0.0041s vs `on_train_batch_end` time: 0.0055s). Check your callbacks.\n"
     ]
    },
    {
     "name": "stdout",
     "output_type": "stream",
     "text": [
      "7251/7259 [============================>.] - ETA: 0s - loss: 0.0311 - accuracy: 0.9954\n",
      "***callbacks***\n",
      "saving losses to model_1/losses.log\n",
      "\n",
      "Epoch 1: val_loss improved from inf to 0.01639, saving model to model_1/KERAS_check_best_model.h5\n",
      "\n",
      "Epoch 1: val_loss improved from inf to 0.01639, saving model to model_1/KERAS_check_best_model_weights.h5\n",
      "\n",
      "Epoch 1: saving model to model_1/KERAS_check_model_last.h5\n",
      "\n",
      "Epoch 1: saving model to model_1/KERAS_check_model_last_weights.h5\n",
      "\n",
      "***callbacks end***\n",
      "\n",
      "7259/7259 [==============================] - 27s 3ms/step - loss: 0.0311 - accuracy: 0.9954 - val_loss: 0.0164 - val_accuracy: 0.9964 - lr: 0.0010\n",
      "Epoch 2/30\n",
      "7247/7259 [============================>.] - ETA: 0s - loss: 0.0157 - accuracy: 0.9963\n",
      "***callbacks***\n",
      "saving losses to model_1/losses.log\n",
      "\n",
      "Epoch 2: val_loss improved from 0.01639 to 0.01518, saving model to model_1/KERAS_check_best_model.h5\n",
      "\n",
      "Epoch 2: val_loss improved from 0.01639 to 0.01518, saving model to model_1/KERAS_check_best_model_weights.h5\n",
      "\n",
      "Epoch 2: saving model to model_1/KERAS_check_model_last.h5\n",
      "\n",
      "Epoch 2: saving model to model_1/KERAS_check_model_last_weights.h5\n",
      "\n",
      "***callbacks end***\n",
      "\n",
      "7259/7259 [==============================] - 23s 3ms/step - loss: 0.0157 - accuracy: 0.9963 - val_loss: 0.0152 - val_accuracy: 0.9964 - lr: 0.0010\n",
      "Epoch 3/30\n",
      "7256/7259 [============================>.] - ETA: 0s - loss: 0.0148 - accuracy: 0.9964\n",
      "***callbacks***\n",
      "saving losses to model_1/losses.log\n",
      "\n",
      "Epoch 3: val_loss improved from 0.01518 to 0.01433, saving model to model_1/KERAS_check_best_model.h5\n",
      "\n",
      "Epoch 3: val_loss improved from 0.01518 to 0.01433, saving model to model_1/KERAS_check_best_model_weights.h5\n",
      "\n",
      "Epoch 3: saving model to model_1/KERAS_check_model_last.h5\n",
      "\n",
      "Epoch 3: saving model to model_1/KERAS_check_model_last_weights.h5\n",
      "\n",
      "***callbacks end***\n",
      "\n",
      "7259/7259 [==============================] - 23s 3ms/step - loss: 0.0148 - accuracy: 0.9964 - val_loss: 0.0143 - val_accuracy: 0.9965 - lr: 0.0010\n",
      "Epoch 4/30\n",
      "7252/7259 [============================>.] - ETA: 0s - loss: 0.0143 - accuracy: 0.9964\n",
      "***callbacks***\n",
      "saving losses to model_1/losses.log\n",
      "\n",
      "Epoch 4: val_loss improved from 0.01433 to 0.01380, saving model to model_1/KERAS_check_best_model.h5\n",
      "\n",
      "Epoch 4: val_loss improved from 0.01433 to 0.01380, saving model to model_1/KERAS_check_best_model_weights.h5\n",
      "\n",
      "Epoch 4: saving model to model_1/KERAS_check_model_last.h5\n",
      "\n",
      "Epoch 4: saving model to model_1/KERAS_check_model_last_weights.h5\n",
      "\n",
      "***callbacks end***\n",
      "\n",
      "7259/7259 [==============================] - 24s 3ms/step - loss: 0.0143 - accuracy: 0.9964 - val_loss: 0.0138 - val_accuracy: 0.9965 - lr: 0.0010\n",
      "Epoch 5/30\n",
      "7248/7259 [============================>.] - ETA: 0s - loss: 0.0140 - accuracy: 0.9964\n",
      "***callbacks***\n",
      "saving losses to model_1/losses.log\n",
      "\n",
      "Epoch 5: val_loss improved from 0.01380 to 0.01379, saving model to model_1/KERAS_check_best_model.h5\n",
      "\n",
      "Epoch 5: val_loss improved from 0.01380 to 0.01379, saving model to model_1/KERAS_check_best_model_weights.h5\n",
      "\n",
      "Epoch 5: saving model to model_1/KERAS_check_model_last.h5\n",
      "\n",
      "Epoch 5: saving model to model_1/KERAS_check_model_last_weights.h5\n",
      "\n",
      "***callbacks end***\n",
      "\n",
      "7259/7259 [==============================] - 24s 3ms/step - loss: 0.0140 - accuracy: 0.9964 - val_loss: 0.0138 - val_accuracy: 0.9965 - lr: 0.0010\n",
      "Epoch 6/30\n",
      "7255/7259 [============================>.] - ETA: 0s - loss: 0.0138 - accuracy: 0.9965\n",
      "***callbacks***\n",
      "saving losses to model_1/losses.log\n",
      "\n",
      "Epoch 6: val_loss did not improve from 0.01379\n",
      "\n",
      "Epoch 6: val_loss did not improve from 0.01379\n",
      "\n",
      "Epoch 6: saving model to model_1/KERAS_check_model_last.h5\n",
      "\n",
      "Epoch 6: saving model to model_1/KERAS_check_model_last_weights.h5\n",
      "\n",
      "***callbacks end***\n",
      "\n",
      "7259/7259 [==============================] - 23s 3ms/step - loss: 0.0138 - accuracy: 0.9965 - val_loss: 0.0139 - val_accuracy: 0.9964 - lr: 0.0010\n",
      "Epoch 7/30\n",
      "7252/7259 [============================>.] - ETA: 0s - loss: 0.0137 - accuracy: 0.9965\n",
      "***callbacks***\n",
      "saving losses to model_1/losses.log\n",
      "\n",
      "Epoch 7: val_loss improved from 0.01379 to 0.01344, saving model to model_1/KERAS_check_best_model.h5\n",
      "\n",
      "Epoch 7: val_loss improved from 0.01379 to 0.01344, saving model to model_1/KERAS_check_best_model_weights.h5\n",
      "\n",
      "Epoch 7: saving model to model_1/KERAS_check_model_last.h5\n",
      "\n",
      "Epoch 7: saving model to model_1/KERAS_check_model_last_weights.h5\n",
      "\n",
      "***callbacks end***\n",
      "\n",
      "7259/7259 [==============================] - 23s 3ms/step - loss: 0.0137 - accuracy: 0.9965 - val_loss: 0.0134 - val_accuracy: 0.9965 - lr: 0.0010\n",
      "Epoch 8/30\n",
      "7247/7259 [============================>.] - ETA: 0s - loss: 0.0137 - accuracy: 0.9965\n",
      "***callbacks***\n",
      "saving losses to model_1/losses.log\n",
      "\n",
      "Epoch 8: val_loss did not improve from 0.01344\n",
      "\n",
      "Epoch 8: val_loss did not improve from 0.01344\n",
      "\n",
      "Epoch 8: saving model to model_1/KERAS_check_model_last.h5\n",
      "\n",
      "Epoch 8: saving model to model_1/KERAS_check_model_last_weights.h5\n",
      "\n",
      "***callbacks end***\n",
      "\n",
      "7259/7259 [==============================] - 25s 3ms/step - loss: 0.0137 - accuracy: 0.9965 - val_loss: 0.0135 - val_accuracy: 0.9965 - lr: 0.0010\n",
      "Epoch 9/30\n",
      "7243/7259 [============================>.] - ETA: 0s - loss: 0.0137 - accuracy: 0.9965\n",
      "***callbacks***\n",
      "saving losses to model_1/losses.log\n",
      "\n",
      "Epoch 9: val_loss did not improve from 0.01344\n",
      "\n",
      "Epoch 9: val_loss did not improve from 0.01344\n",
      "\n",
      "Epoch 9: saving model to model_1/KERAS_check_model_last.h5\n",
      "\n",
      "Epoch 9: saving model to model_1/KERAS_check_model_last_weights.h5\n",
      "\n",
      "***callbacks end***\n",
      "\n",
      "7259/7259 [==============================] - 23s 3ms/step - loss: 0.0137 - accuracy: 0.9965 - val_loss: 0.0136 - val_accuracy: 0.9965 - lr: 0.0010\n",
      "Epoch 10/30\n",
      "7258/7259 [============================>.] - ETA: 0s - loss: 0.0137 - accuracy: 0.9965\n",
      "***callbacks***\n",
      "saving losses to model_1/losses.log\n",
      "\n",
      "Epoch 10: val_loss did not improve from 0.01344\n",
      "\n",
      "Epoch 10: val_loss did not improve from 0.01344\n",
      "\n",
      "Epoch 10: saving model to model_1/KERAS_check_model_last.h5\n",
      "\n",
      "Epoch 10: saving model to model_1/KERAS_check_model_last_weights.h5\n",
      "\n",
      "Epoch 10: saving model to model_1/KERAS_check_model_epoch10.h5\n",
      "\n",
      "***callbacks end***\n",
      "\n",
      "7259/7259 [==============================] - 23s 3ms/step - loss: 0.0137 - accuracy: 0.9965 - val_loss: 0.0136 - val_accuracy: 0.9965 - lr: 0.0010\n",
      "Epoch 11/30\n",
      "7243/7259 [============================>.] - ETA: 0s - loss: 0.0136 - accuracy: 0.9965\n",
      "***callbacks***\n",
      "saving losses to model_1/losses.log\n",
      "\n",
      "Epoch 11: val_loss did not improve from 0.01344\n",
      "\n",
      "Epoch 11: val_loss did not improve from 0.01344\n",
      "\n",
      "Epoch 11: saving model to model_1/KERAS_check_model_last.h5\n",
      "\n",
      "Epoch 11: saving model to model_1/KERAS_check_model_last_weights.h5\n",
      "\n",
      "***callbacks end***\n",
      "\n",
      "7259/7259 [==============================] - 23s 3ms/step - loss: 0.0136 - accuracy: 0.9965 - val_loss: 0.0134 - val_accuracy: 0.9965 - lr: 0.0010\n",
      "Epoch 12/30\n",
      "7255/7259 [============================>.] - ETA: 0s - loss: 0.0136 - accuracy: 0.9964\n",
      "***callbacks***\n",
      "saving losses to model_1/losses.log\n",
      "\n",
      "Epoch 12: val_loss did not improve from 0.01344\n",
      "\n",
      "Epoch 12: val_loss did not improve from 0.01344\n",
      "\n",
      "Epoch 12: saving model to model_1/KERAS_check_model_last.h5\n",
      "\n",
      "Epoch 12: saving model to model_1/KERAS_check_model_last_weights.h5\n",
      "\n",
      "***callbacks end***\n",
      "\n",
      "7259/7259 [==============================] - 23s 3ms/step - loss: 0.0136 - accuracy: 0.9964 - val_loss: 0.0135 - val_accuracy: 0.9965 - lr: 0.0010\n",
      "Epoch 13/30\n",
      "7244/7259 [============================>.] - ETA: 0s - loss: 0.0136 - accuracy: 0.9965\n",
      "***callbacks***\n",
      "saving losses to model_1/losses.log\n",
      "\n",
      "Epoch 13: val_loss improved from 0.01344 to 0.01339, saving model to model_1/KERAS_check_best_model.h5\n",
      "\n",
      "Epoch 13: val_loss improved from 0.01344 to 0.01339, saving model to model_1/KERAS_check_best_model_weights.h5\n",
      "\n",
      "Epoch 13: saving model to model_1/KERAS_check_model_last.h5\n",
      "\n",
      "Epoch 13: saving model to model_1/KERAS_check_model_last_weights.h5\n",
      "\n",
      "***callbacks end***\n",
      "\n",
      "7259/7259 [==============================] - 24s 3ms/step - loss: 0.0136 - accuracy: 0.9965 - val_loss: 0.0134 - val_accuracy: 0.9965 - lr: 0.0010\n",
      "Epoch 14/30\n",
      "7247/7259 [============================>.] - ETA: 0s - loss: 0.0135 - accuracy: 0.9964\n",
      "***callbacks***\n",
      "saving losses to model_1/losses.log\n",
      "\n",
      "Epoch 14: val_loss did not improve from 0.01339\n",
      "\n",
      "Epoch 14: val_loss did not improve from 0.01339\n",
      "\n",
      "Epoch 14: saving model to model_1/KERAS_check_model_last.h5\n",
      "\n",
      "Epoch 14: saving model to model_1/KERAS_check_model_last_weights.h5\n",
      "\n",
      "***callbacks end***\n",
      "\n",
      "7259/7259 [==============================] - 23s 3ms/step - loss: 0.0135 - accuracy: 0.9964 - val_loss: 0.0135 - val_accuracy: 0.9965 - lr: 0.0010\n",
      "Epoch 15/30\n",
      "7250/7259 [============================>.] - ETA: 0s - loss: 0.0135 - accuracy: 0.9964\n",
      "***callbacks***\n",
      "saving losses to model_1/losses.log\n",
      "\n",
      "Epoch 15: val_loss did not improve from 0.01339\n",
      "\n",
      "Epoch 15: val_loss did not improve from 0.01339\n",
      "\n",
      "Epoch 15: saving model to model_1/KERAS_check_model_last.h5\n",
      "\n",
      "Epoch 15: saving model to model_1/KERAS_check_model_last_weights.h5\n",
      "\n",
      "***callbacks end***\n",
      "\n",
      "7259/7259 [==============================] - 23s 3ms/step - loss: 0.0135 - accuracy: 0.9964 - val_loss: 0.0135 - val_accuracy: 0.9964 - lr: 0.0010\n",
      "Epoch 16/30\n",
      "7259/7259 [==============================] - ETA: 0s - loss: 0.0135 - accuracy: 0.9965\n",
      "***callbacks***\n",
      "saving losses to model_1/losses.log\n",
      "\n",
      "Epoch 16: val_loss did not improve from 0.01339\n",
      "\n",
      "Epoch 16: val_loss did not improve from 0.01339\n",
      "\n",
      "Epoch 16: saving model to model_1/KERAS_check_model_last.h5\n",
      "\n",
      "Epoch 16: saving model to model_1/KERAS_check_model_last_weights.h5\n",
      "\n",
      "***callbacks end***\n",
      "\n",
      "7259/7259 [==============================] - 23s 3ms/step - loss: 0.0135 - accuracy: 0.9965 - val_loss: 0.0136 - val_accuracy: 0.9965 - lr: 0.0010\n",
      "Epoch 17/30\n",
      "7259/7259 [==============================] - ETA: 0s - loss: 0.0135 - accuracy: 0.9964\n",
      "***callbacks***\n",
      "saving losses to model_1/losses.log\n",
      "\n",
      "Epoch 17: val_loss improved from 0.01339 to 0.01326, saving model to model_1/KERAS_check_best_model.h5\n",
      "\n",
      "Epoch 17: val_loss improved from 0.01339 to 0.01326, saving model to model_1/KERAS_check_best_model_weights.h5\n",
      "\n",
      "Epoch 17: saving model to model_1/KERAS_check_model_last.h5\n",
      "\n",
      "Epoch 17: saving model to model_1/KERAS_check_model_last_weights.h5\n",
      "\n",
      "***callbacks end***\n",
      "\n",
      "7259/7259 [==============================] - 23s 3ms/step - loss: 0.0135 - accuracy: 0.9964 - val_loss: 0.0133 - val_accuracy: 0.9965 - lr: 0.0010\n",
      "Epoch 18/30\n",
      "7248/7259 [============================>.] - ETA: 0s - loss: 0.0135 - accuracy: 0.9964\n",
      "***callbacks***\n",
      "saving losses to model_1/losses.log\n",
      "\n",
      "Epoch 18: val_loss did not improve from 0.01326\n",
      "\n",
      "Epoch 18: val_loss did not improve from 0.01326\n",
      "\n",
      "Epoch 18: saving model to model_1/KERAS_check_model_last.h5\n",
      "\n",
      "Epoch 18: saving model to model_1/KERAS_check_model_last_weights.h5\n",
      "\n",
      "***callbacks end***\n",
      "\n",
      "7259/7259 [==============================] - 23s 3ms/step - loss: 0.0135 - accuracy: 0.9964 - val_loss: 0.0134 - val_accuracy: 0.9965 - lr: 0.0010\n",
      "Epoch 19/30\n",
      "7255/7259 [============================>.] - ETA: 0s - loss: 0.0135 - accuracy: 0.9965\n",
      "***callbacks***\n",
      "saving losses to model_1/losses.log\n",
      "\n",
      "Epoch 19: val_loss improved from 0.01326 to 0.01317, saving model to model_1/KERAS_check_best_model.h5\n",
      "\n",
      "Epoch 19: val_loss improved from 0.01326 to 0.01317, saving model to model_1/KERAS_check_best_model_weights.h5\n",
      "\n",
      "Epoch 19: saving model to model_1/KERAS_check_model_last.h5\n",
      "\n",
      "Epoch 19: saving model to model_1/KERAS_check_model_last_weights.h5\n",
      "\n",
      "***callbacks end***\n",
      "\n",
      "7259/7259 [==============================] - 23s 3ms/step - loss: 0.0135 - accuracy: 0.9965 - val_loss: 0.0132 - val_accuracy: 0.9966 - lr: 0.0010\n",
      "Epoch 20/30\n",
      "7244/7259 [============================>.] - ETA: 0s - loss: 0.0135 - accuracy: 0.9964\n",
      "***callbacks***\n",
      "saving losses to model_1/losses.log\n",
      "\n",
      "Epoch 20: val_loss did not improve from 0.01317\n",
      "\n",
      "Epoch 20: val_loss did not improve from 0.01317\n",
      "\n",
      "Epoch 20: saving model to model_1/KERAS_check_model_last.h5\n",
      "\n",
      "Epoch 20: saving model to model_1/KERAS_check_model_last_weights.h5\n",
      "\n",
      "Epoch 20: saving model to model_1/KERAS_check_model_epoch20.h5\n",
      "\n",
      "***callbacks end***\n",
      "\n",
      "7259/7259 [==============================] - 23s 3ms/step - loss: 0.0135 - accuracy: 0.9964 - val_loss: 0.0137 - val_accuracy: 0.9964 - lr: 0.0010\n",
      "Epoch 21/30\n",
      "7246/7259 [============================>.] - ETA: 0s - loss: 0.0135 - accuracy: 0.9965\n",
      "***callbacks***\n",
      "saving losses to model_1/losses.log\n",
      "\n",
      "Epoch 21: val_loss did not improve from 0.01317\n",
      "\n",
      "Epoch 21: val_loss did not improve from 0.01317\n",
      "\n",
      "Epoch 21: saving model to model_1/KERAS_check_model_last.h5\n",
      "\n",
      "Epoch 21: saving model to model_1/KERAS_check_model_last_weights.h5\n",
      "\n",
      "***callbacks end***\n",
      "\n",
      "7259/7259 [==============================] - 23s 3ms/step - loss: 0.0135 - accuracy: 0.9965 - val_loss: 0.0134 - val_accuracy: 0.9965 - lr: 0.0010\n",
      "Epoch 22/30\n",
      "7243/7259 [============================>.] - ETA: 0s - loss: 0.0134 - accuracy: 0.9965\n",
      "***callbacks***\n",
      "saving losses to model_1/losses.log\n",
      "\n",
      "Epoch 22: val_loss did not improve from 0.01317\n",
      "\n",
      "Epoch 22: val_loss did not improve from 0.01317\n",
      "\n",
      "Epoch 22: saving model to model_1/KERAS_check_model_last.h5\n",
      "\n",
      "Epoch 22: saving model to model_1/KERAS_check_model_last_weights.h5\n",
      "\n",
      "***callbacks end***\n",
      "\n",
      "7259/7259 [==============================] - 23s 3ms/step - loss: 0.0134 - accuracy: 0.9965 - val_loss: 0.0133 - val_accuracy: 0.9965 - lr: 0.0010\n",
      "Epoch 23/30\n",
      "7257/7259 [============================>.] - ETA: 0s - loss: 0.0134 - accuracy: 0.9965\n",
      "***callbacks***\n",
      "saving losses to model_1/losses.log\n",
      "\n",
      "Epoch 23: val_loss did not improve from 0.01317\n",
      "\n",
      "Epoch 23: val_loss did not improve from 0.01317\n",
      "\n",
      "Epoch 23: saving model to model_1/KERAS_check_model_last.h5\n",
      "\n",
      "Epoch 23: saving model to model_1/KERAS_check_model_last_weights.h5\n",
      "\n",
      "***callbacks end***\n",
      "\n",
      "7259/7259 [==============================] - 23s 3ms/step - loss: 0.0134 - accuracy: 0.9965 - val_loss: 0.0132 - val_accuracy: 0.9965 - lr: 0.0010\n",
      "Epoch 24/30\n",
      "7255/7259 [============================>.] - ETA: 0s - loss: 0.0134 - accuracy: 0.9965\n",
      "***callbacks***\n",
      "saving losses to model_1/losses.log\n",
      "\n",
      "Epoch 24: val_loss did not improve from 0.01317\n",
      "\n",
      "Epoch 24: val_loss did not improve from 0.01317\n",
      "\n",
      "Epoch 24: saving model to model_1/KERAS_check_model_last.h5\n",
      "\n",
      "Epoch 24: saving model to model_1/KERAS_check_model_last_weights.h5\n",
      "\n",
      "***callbacks end***\n",
      "\n",
      "7259/7259 [==============================] - 23s 3ms/step - loss: 0.0134 - accuracy: 0.9965 - val_loss: 0.0133 - val_accuracy: 0.9965 - lr: 0.0010\n",
      "Epoch 25/30\n",
      "7248/7259 [============================>.] - ETA: 0s - loss: 0.0134 - accuracy: 0.9965\n",
      "***callbacks***\n",
      "saving losses to model_1/losses.log\n",
      "\n",
      "Epoch 25: val_loss did not improve from 0.01317\n",
      "\n",
      "Epoch 25: val_loss did not improve from 0.01317\n",
      "\n",
      "Epoch 25: saving model to model_1/KERAS_check_model_last.h5\n",
      "\n",
      "Epoch 25: saving model to model_1/KERAS_check_model_last_weights.h5\n",
      "\n",
      "***callbacks end***\n",
      "\n",
      "7259/7259 [==============================] - 23s 3ms/step - loss: 0.0134 - accuracy: 0.9965 - val_loss: 0.0133 - val_accuracy: 0.9965 - lr: 0.0010\n",
      "Epoch 26/30\n",
      "7251/7259 [============================>.] - ETA: 0s - loss: 0.0134 - accuracy: 0.9965\n",
      "***callbacks***\n",
      "saving losses to model_1/losses.log\n",
      "\n",
      "Epoch 26: val_loss did not improve from 0.01317\n",
      "\n",
      "Epoch 26: val_loss did not improve from 0.01317\n",
      "\n",
      "Epoch 26: saving model to model_1/KERAS_check_model_last.h5\n",
      "\n",
      "Epoch 26: saving model to model_1/KERAS_check_model_last_weights.h5\n",
      "\n",
      "***callbacks end***\n",
      "\n",
      "7259/7259 [==============================] - 23s 3ms/step - loss: 0.0134 - accuracy: 0.9964 - val_loss: 0.0134 - val_accuracy: 0.9965 - lr: 0.0010\n",
      "Epoch 27/30\n",
      "7254/7259 [============================>.] - ETA: 0s - loss: 0.0134 - accuracy: 0.9964\n",
      "***callbacks***\n",
      "saving losses to model_1/losses.log\n",
      "\n",
      "Epoch 27: val_loss improved from 0.01317 to 0.01315, saving model to model_1/KERAS_check_best_model.h5\n",
      "\n",
      "Epoch 27: val_loss improved from 0.01317 to 0.01315, saving model to model_1/KERAS_check_best_model_weights.h5\n",
      "\n",
      "Epoch 27: saving model to model_1/KERAS_check_model_last.h5\n",
      "\n",
      "Epoch 27: saving model to model_1/KERAS_check_model_last_weights.h5\n",
      "\n",
      "***callbacks end***\n",
      "\n",
      "7259/7259 [==============================] - 23s 3ms/step - loss: 0.0134 - accuracy: 0.9964 - val_loss: 0.0132 - val_accuracy: 0.9966 - lr: 0.0010\n",
      "Epoch 28/30\n",
      "7255/7259 [============================>.] - ETA: 0s - loss: 0.0133 - accuracy: 0.9964\n",
      "***callbacks***\n",
      "saving losses to model_1/losses.log\n",
      "\n",
      "Epoch 28: val_loss did not improve from 0.01315\n",
      "\n",
      "Epoch 28: val_loss did not improve from 0.01315\n",
      "\n",
      "Epoch 28: saving model to model_1/KERAS_check_model_last.h5\n",
      "\n",
      "Epoch 28: saving model to model_1/KERAS_check_model_last_weights.h5\n",
      "\n",
      "***callbacks end***\n",
      "\n",
      "7259/7259 [==============================] - 24s 3ms/step - loss: 0.0133 - accuracy: 0.9964 - val_loss: 0.0133 - val_accuracy: 0.9964 - lr: 0.0010\n",
      "Epoch 29/30\n",
      "7254/7259 [============================>.] - ETA: 0s - loss: 0.0133 - accuracy: 0.9965\n",
      "***callbacks***\n",
      "saving losses to model_1/losses.log\n",
      "\n",
      "Epoch 29: val_loss did not improve from 0.01315\n",
      "\n",
      "Epoch 29: val_loss did not improve from 0.01315\n",
      "\n",
      "Epoch 29: saving model to model_1/KERAS_check_model_last.h5\n",
      "\n",
      "Epoch 29: saving model to model_1/KERAS_check_model_last_weights.h5\n",
      "\n",
      "***callbacks end***\n",
      "\n",
      "7259/7259 [==============================] - 26s 4ms/step - loss: 0.0133 - accuracy: 0.9965 - val_loss: 0.0145 - val_accuracy: 0.9961 - lr: 0.0010\n",
      "Epoch 30/30\n",
      "7249/7259 [============================>.] - ETA: 0s - loss: 0.0133 - accuracy: 0.9965\n",
      "***callbacks***\n",
      "saving losses to model_1/losses.log\n",
      "\n",
      "Epoch 30: val_loss did not improve from 0.01315\n",
      "\n",
      "Epoch 30: val_loss did not improve from 0.01315\n",
      "\n",
      "Epoch 30: saving model to model_1/KERAS_check_model_last.h5\n",
      "\n",
      "Epoch 30: saving model to model_1/KERAS_check_model_last_weights.h5\n",
      "\n",
      "Epoch 30: saving model to model_1/KERAS_check_model_epoch30.h5\n",
      "\n",
      "***callbacks end***\n",
      "\n",
      "7259/7259 [==============================] - 23s 3ms/step - loss: 0.0133 - accuracy: 0.9965 - val_loss: 0.0132 - val_accuracy: 0.9965 - lr: 0.0010\n"
     ]
    }
   ],
   "source": [
    "train = True\n",
    "if train:\n",
    "    adam = Adam(lr=0.0001)\n",
    "    model.compile(optimizer=adam, loss=['categorical_crossentropy'], metrics=['accuracy'])\n",
    "    callbacks = all_callbacks(\n",
    "        stop_patience=1000,\n",
    "        lr_factor=0.5,\n",
    "        lr_patience=10,\n",
    "        lr_epsilon=0.000001,\n",
    "        lr_cooldown=2,\n",
    "        lr_minimum=0.0000001,\n",
    "        outputDir='model_1',\n",
    "    )\n",
    "    model.fit(\n",
    "        X_train_val,\n",
    "        y_train_val,\n",
    "        batch_size=1024,\n",
    "        epochs=30,\n",
    "        validation_split=0.25,\n",
    "        shuffle=True,\n",
    "        callbacks=callbacks.callbacks,\n",
    "    )\n",
    "else:\n",
    "    from tensorflow.keras.models import load_model\n",
    "\n",
    "    model = load_model('model_1/KERAS_check_best_model.h5')"
   ]
  },
  {
   "cell_type": "code",
   "execution_count": 33,
   "metadata": {},
   "outputs": [
    {
     "name": "stdout",
     "output_type": "stream",
     "text": [
      "77424/77424 [==============================] - 80s 1ms/step\n",
      "Accuracy: 0.9964925026740127\n"
     ]
    }
   ],
   "source": [
    "import matplotlib.pyplot as plt\n",
    "from sklearn.metrics import accuracy_score\n",
    "\n",
    "y_keras = model.predict(X_test)\n",
    "print(\"Accuracy: {}\".format(accuracy_score(np.argmax(y_test, axis=1), np.argmax(y_keras, axis=1))))"
   ]
  },
  {
   "cell_type": "code",
   "execution_count": null,
   "metadata": {},
   "outputs": [],
   "source": [
    "#_ = plotting.makeRoc(y_test, y_keras, le.classes_)"
   ]
  },
  {
   "cell_type": "code",
   "execution_count": 43,
   "metadata": {},
   "outputs": [
    {
     "data": {
      "text/plain": [
       "array([1, 0, 0, ..., 0, 0, 0])"
      ]
     },
     "execution_count": 43,
     "metadata": {},
     "output_type": "execute_result"
    }
   ],
   "source": [
    "np.argmax(y_keras, axis=1)"
   ]
  },
  {
   "cell_type": "code",
   "execution_count": 34,
   "metadata": {},
   "outputs": [],
   "source": [
    "from sklearn.metrics import roc_curve, auc"
   ]
  },
  {
   "cell_type": "code",
   "execution_count": 69,
   "metadata": {},
   "outputs": [],
   "source": [
    "#labels = np.concatenate((np.ones(len(score_1)), np.zeros(len(score_0))))\n",
    "#all = np.concatenate((score_1, score_0))\n",
    "FPR, TPR, _ = roc_curve(y_score=np.argmin(y_keras, axis=1), y_true=y_test[:,0])\n",
    "AUC = auc(FPR, TPR)"
   ]
  },
  {
   "cell_type": "code",
   "execution_count": 70,
   "metadata": {},
   "outputs": [
    {
     "data": {
      "text/plain": [
       "(2477550, 2)"
      ]
     },
     "execution_count": 70,
     "metadata": {},
     "output_type": "execute_result"
    }
   ],
   "source": [
    "np.shape(y_test)"
   ]
  },
  {
   "cell_type": "code",
   "execution_count": 73,
   "metadata": {},
   "outputs": [
    {
     "data": {
      "text/plain": [
       "(1e-06, 1.05)"
      ]
     },
     "execution_count": 73,
     "metadata": {},
     "output_type": "execute_result"
    },
    {
     "data": {
      "image/png": "[encoded data removed]",
      "text/plain": [
       "<Figure size 640x480 with 1 Axes>"
      ]
     },
     "metadata": {},
     "output_type": "display_data"
    }
   ],
   "source": [
    "plt.plot(FPR, TPR)\n",
    "plt.semilogx()\n",
    "plt.semilogy()\n",
    "plt.xlim([10**-(6), 1.0])\n",
    "plt.ylim([10**-(6), 1.05])"
   ]
  },
  {
   "cell_type": "code",
   "execution_count": 65,
   "metadata": {},
   "outputs": [
    {
     "data": {
      "text/plain": [
       "0.9953035999321515"
      ]
     },
     "execution_count": 65,
     "metadata": {},
     "output_type": "execute_result"
    }
   ],
   "source": [
    "1-AUC"
   ]
  },
  {
   "cell_type": "code",
   "execution_count": null,
   "metadata": {},
   "outputs": [],
   "source": []
  }
 ],
 "metadata": {
  "kernelspec": {
   "display_name": "SP",
   "language": "python",
   "name": "python3"
  },
  "language_info": {
   "codemirror_mode": {
    "name": "ipython",
    "version": 3
   },
   "file_extension": ".py",
   "mimetype": "text/x-python",
   "name": "python",
   "nbconvert_exporter": "python",
   "pygments_lexer": "ipython3",
   "version": "3.10.12"
  }
 },
 "nbformat": 4,
 "nbformat_minor": 2
}
