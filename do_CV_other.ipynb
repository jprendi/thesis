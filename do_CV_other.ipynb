{
 "cells": [
  {
   "cell_type": "code",
   "execution_count": 1,
   "metadata": {},
   "outputs": [],
   "source": [
    "from scripts.cross_validation_script_othermodels import Cross_Validation\n",
    "# import pickle\n",
    "import pandas as pd"
   ]
  },
  {
   "cell_type": "code",
   "execution_count": 6,
   "metadata": {},
   "outputs": [],
   "source": [
    "SCiForest = {'ndim':2, 'sample_size':256, 'max_depth':8, 'ntrees':100, 'missing_action':\"fail\", 'coefs':\"normal\", 'ntry':10, 'prob_pick_avg_gain':1, 'penalize_range':True}\n",
    "FCF = {'ndim':2, 'sample_size':256, 'max_depth': None, 'ntrees':200, 'missing_action':\"fail\", 'coefs':\"normal\", 'ntry':1, 'prob_pick_pooled_gain':1}\n",
    "RRCF = {'ndim':1, 'sample_size':256, 'max_depth':None, 'ntrees':100, 'missing_action':\"fail\", 'prob_pick_col_by_range':1}\n",
    "algo_dict = {'SciForest':SCiForest, 'FCF':FCF, 'RRCF':RRCF}\n",
    "algos = ['SciForest', 'FCF', 'RRCF']"
   ]
  },
  {
   "cell_type": "code",
   "execution_count": 7,
   "metadata": {},
   "outputs": [],
   "source": [
    "sigkeys = [\"ttHto2B\", \"VBFHToInvisible\", \"GluGluHToGG_M-90\", \"HTo2LongLivedTo4b_MH-125_MFF-12_CTau-900mm\", \"ggXToYYTo2Mu2E_m18\", \"GluGluHToTauTau\", \"SMS-Higgsino\", \"SUSYGluGluToBBHToBB_NarrowWidth_M-120\"]"
   ]
  },
  {
   "cell_type": "code",
   "execution_count": null,
   "metadata": {},
   "outputs": [],
   "source": [
    "for algo in algos:\n",
    "    kwargs = algo_dict[algo]\n",
    "    print(kwargs, algo)\n",
    "    cv = Cross_Validation(kfold=5, model_parameters=kwargs, train_models = True)\n",
    "    for sig in sigkeys:\n",
    "        print(sig)\n",
    "        cv.getnsave_kfold_auc_prauc(sigkey=sig)"
   ]
  },
  {
   "cell_type": "code",
   "execution_count": 8,
   "metadata": {},
   "outputs": [],
   "source": [
    "import pickle"
   ]
  },
  {
   "cell_type": "code",
   "execution_count": 9,
   "metadata": {},
   "outputs": [],
   "source": [
    "results_table = []\n",
    "\n",
    "for sigkey in sigkeys:\n",
    "    for algo in algos:\n",
    "        kwargs = algo_dict[algo]\n",
    "        results = \"results/isotree/other_models/\" + f\"{sigkey}_\" + \"__\".join([f\"{key}_{value}\" for key, value in kwargs.items()]) + \"__\" + \"5\"\n",
    "        with open(results, 'rb') as f:\n",
    "            results_dict = pickle.load(f)\n",
    "        # print(results)\n",
    "        ll = [sigkey, algo, results_dict[\"ROCAUC\"][\"auc_mean\"], results_dict[\"ROCAUC\"][\"auc_unc\"], results_dict[\"PRAUC\"][\"pr_auc_mean\"], results_dict[\"PRAUC\"][\"pr_auc_unc\"]]\n",
    "        results_table.append(ll)\n",
    "\n",
    "pd.DataFrame(results_table, columns =['signal', 'algo', 'rocauc', 'rocauc unc', 'prauc', 'prauc unc']).to_csv(path_or_buf=\"results/isotree/other_models/results_others.csv\")"
   ]
  },
  {
   "cell_type": "code",
   "execution_count": null,
   "metadata": {},
   "outputs": [],
   "source": []
  }
 ],
 "metadata": {
  "kernelspec": {
   "display_name": "myenv",
   "language": "python",
   "name": "python3"
  },
  "language_info": {
   "codemirror_mode": {
    "name": "ipython",
    "version": 3
   },
   "file_extension": ".py",
   "mimetype": "text/x-python",
   "name": "python",
   "nbconvert_exporter": "python",
   "pygments_lexer": "ipython3",
   "version": "3.11.5"
  }
 },
 "nbformat": 4,
 "nbformat_minor": 2
}
