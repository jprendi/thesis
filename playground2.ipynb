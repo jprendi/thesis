{
 "cells": [
  {
   "cell_type": "code",
   "execution_count": 1,
   "metadata": {},
   "outputs": [],
   "source": [
    "from scripts.cross_validation_script import Cross_Validation"
   ]
  },
  {
   "cell_type": "code",
   "execution_count": 2,
   "metadata": {},
   "outputs": [],
   "source": [
    "from scripts import dataset"
   ]
  },
  {
   "cell_type": "code",
   "execution_count": 3,
   "metadata": {},
   "outputs": [],
   "source": [
    "kwargs = {'ndim': 1, 'ntrees': 100, 'scoring_metric': 'depth'}\n",
    "CV = Cross_Validation(kfold=5, model_parameters=kwargs, sigkey='ttHto2B').get_model_name()"
   ]
  },
  {
   "cell_type": "code",
   "execution_count": 6,
   "metadata": {},
   "outputs": [],
   "source": [
    "BB = dataset.load_dataset('BSM_preprocessed.h5', 'ttHto2B')\n",
    "x_train, x_test = dataset.create_xtrain_xtest()"
   ]
  },
  {
   "cell_type": "code",
   "execution_count": 5,
   "metadata": {},
   "outputs": [],
   "source": [
    "import pickle\n",
    "model = pickle.load(open(CV[0], 'rb'))"
   ]
  },
  {
   "cell_type": "code",
   "execution_count": 8,
   "metadata": {},
   "outputs": [],
   "source": [
    "depth = model.predict(x_test, output=\"avg_depth\")"
   ]
  },
  {
   "cell_type": "code",
   "execution_count": 15,
   "metadata": {},
   "outputs": [],
   "source": [
    "import matplotlib.pyplot as plt\n",
    "import numpy as np"
   ]
  },
  {
   "cell_type": "code",
   "execution_count": 45,
   "metadata": {},
   "outputs": [
    {
     "data": {
      "text/plain": [
       "[<matplotlib.lines.Line2D at 0x19165ff70>]"
      ]
     },
     "execution_count": 45,
     "metadata": {},
     "output_type": "execute_result"
    },
    {
     "data": {
      "image/png": "[encoded data removed]",
      "text/plain": [
       "<Figure size 640x480 with 1 Axes>"
      ]
     },
     "metadata": {},
     "output_type": "display_data"
    }
   ],
   "source": [
    "plt.plot(depth, x_test[:,21], '*')"
   ]
  },
  {
   "cell_type": "code",
   "execution_count": null,
   "metadata": {},
   "outputs": [],
   "source": [
    "21"
   ]
  },
  {
   "cell_type": "code",
   "execution_count": 20,
   "metadata": {},
   "outputs": [
    {
     "data": {
      "text/plain": [
       "True"
      ]
     },
     "execution_count": 20,
     "metadata": {},
     "output_type": "execute_result"
    }
   ],
   "source": [
    "np.shape(x_test[:,0]) == np.shape(depth)"
   ]
  },
  {
   "cell_type": "code",
   "execution_count": 40,
   "metadata": {},
   "outputs": [
    {
     "name": "stderr",
     "output_type": "stream",
     "text": [
      "/Users/jessicaprendi/opt/anaconda3/envs/SP/lib/python3.10/site-packages/numpy/lib/function_base.py:2854: RuntimeWarning: invalid value encountered in divide\n",
      "  c /= stddev[:, None]\n",
      "/Users/jessicaprendi/opt/anaconda3/envs/SP/lib/python3.10/site-packages/numpy/lib/function_base.py:2855: RuntimeWarning: invalid value encountered in divide\n",
      "  c /= stddev[None, :]\n"
     ]
    }
   ],
   "source": [
    "# df_main = pd.read_csv(\"main_dataset.csv\")\n",
    "# df_separate = pd.read_csv(\"separate_dataset.csv\")\n",
    "\n",
    "# # Calculate the correlation coefficients between each attribute and the separate dataset parameter\n",
    "correlations = []\n",
    "for i in range(99):\n",
    "    correlation = np.corrcoef(x_test[:, i], depth.squeeze())\n",
    "    correlations.append((i, correlation))\n",
    "\n",
    "# # Sort the correlations in descending order\n",
    "# correlations.sort(key=lambda x: abs(x[1]), reverse=True)\n",
    "\n",
    "# # Print the attribute with the highest correlation\n",
    "# print(\"Attribute with the highest correlation with the separate dataset parameter:\")\n",
    "# print(correlations[0])"
   ]
  },
  {
   "cell_type": "code",
   "execution_count": 43,
   "metadata": {},
   "outputs": [
    {
     "data": {
      "text/plain": [
       "[(0,\n",
       "  array([[ 1.        , -0.21508654],\n",
       "         [-0.21508654,  1.        ]])),\n",
       " (1,\n",
       "  array([[nan, nan],\n",
       "         [nan,  1.]])),\n",
       " (2,\n",
       "  array([[1.        , 0.03333673],\n",
       "         [0.03333673, 1.        ]])),\n",
       " (3,\n",
       "  array([[ 1.        , -0.38077849],\n",
       "         [-0.38077849,  1.        ]])),\n",
       " (4,\n",
       "  array([[1.        , 0.00685261],\n",
       "         [0.00685261, 1.        ]])),\n",
       " (5,\n",
       "  array([[ 1.        , -0.04073573],\n",
       "         [-0.04073573,  1.        ]])),\n",
       " (6,\n",
       "  array([[ 1.        , -0.51108226],\n",
       "         [-0.51108226,  1.        ]])),\n",
       " (7,\n",
       "  array([[1.        , 0.01168286],\n",
       "         [0.01168286, 1.        ]])),\n",
       " (8,\n",
       "  array([[ 1.        , -0.16155097],\n",
       "         [-0.16155097,  1.        ]])),\n",
       " (9,\n",
       "  array([[ 1.        , -0.55439126],\n",
       "         [-0.55439126,  1.        ]])),\n",
       " (10,\n",
       "  array([[1.       , 0.0015385],\n",
       "         [0.0015385, 1.       ]])),\n",
       " (11,\n",
       "  array([[ 1.        , -0.30028388],\n",
       "         [-0.30028388,  1.        ]])),\n",
       " (12,\n",
       "  array([[ 1.        , -0.58880969],\n",
       "         [-0.58880969,  1.        ]])),\n",
       " (13,\n",
       "  array([[ 1.        , -0.00959704],\n",
       "         [-0.00959704,  1.        ]])),\n",
       " (14,\n",
       "  array([[ 1.        , -0.41859344],\n",
       "         [-0.41859344,  1.        ]])),\n",
       " (15,\n",
       "  array([[ 1.        , -0.62553459],\n",
       "         [-0.62553459,  1.        ]])),\n",
       " (16,\n",
       "  array([[1.        , 0.00480469],\n",
       "         [0.00480469, 1.        ]])),\n",
       " (17,\n",
       "  array([[ 1.        , -0.52000253],\n",
       "         [-0.52000253,  1.        ]])),\n",
       " (18,\n",
       "  array([[ 1.        , -0.65612604],\n",
       "         [-0.65612604,  1.        ]])),\n",
       " (19,\n",
       "  array([[1.        , 0.00163624],\n",
       "         [0.00163624, 1.        ]])),\n",
       " (20,\n",
       "  array([[ 1.        , -0.58535952],\n",
       "         [-0.58535952,  1.        ]])),\n",
       " (21,\n",
       "  array([[ 1.        , -0.66902136],\n",
       "         [-0.66902136,  1.        ]])),\n",
       " (22,\n",
       "  array([[ 1.        , -0.00436586],\n",
       "         [-0.00436586,  1.        ]])),\n",
       " (23,\n",
       "  array([[ 1.        , -0.61496978],\n",
       "         [-0.61496978,  1.        ]])),\n",
       " (24,\n",
       "  array([[ 1.        , -0.65682773],\n",
       "         [-0.65682773,  1.        ]])),\n",
       " (25,\n",
       "  array([[1.        , 0.00394488],\n",
       "         [0.00394488, 1.        ]])),\n",
       " (26,\n",
       "  array([[ 1.        , -0.61371739],\n",
       "         [-0.61371739,  1.        ]])),\n",
       " (27,\n",
       "  array([[ 1.        , -0.61777179],\n",
       "         [-0.61777179,  1.        ]])),\n",
       " (28,\n",
       "  array([[1.        , 0.00283214],\n",
       "         [0.00283214, 1.        ]])),\n",
       " (29,\n",
       "  array([[ 1.        , -0.57012373],\n",
       "         [-0.57012373,  1.        ]])),\n",
       " (30,\n",
       "  array([[ 1.        , -0.55170868],\n",
       "         [-0.55170868,  1.        ]])),\n",
       " (31,\n",
       "  array([[ 1.        , -0.00669919],\n",
       "         [-0.00669919,  1.        ]])),\n",
       " (32,\n",
       "  array([[ 1.        , -0.49155173],\n",
       "         [-0.49155173,  1.        ]])),\n",
       " (33,\n",
       "  array([[ 1.        , -0.44692916],\n",
       "         [-0.44692916,  1.        ]])),\n",
       " (34,\n",
       "  array([[1.        , 0.00689594],\n",
       "         [0.00689594, 1.        ]])),\n",
       " (35,\n",
       "  array([[ 1.        , -0.37848713],\n",
       "         [-0.37848713,  1.        ]])),\n",
       " (36,\n",
       "  array([[ 1.       , -0.3171669],\n",
       "         [-0.3171669,  1.       ]])),\n",
       " (37,\n",
       "  array([[1.        , 0.00110449],\n",
       "         [0.00110449, 1.        ]])),\n",
       " (38,\n",
       "  array([[ 1.        , -0.24979537],\n",
       "         [-0.24979537,  1.        ]])),\n",
       " (39,\n",
       "  array([[ 1.        , -0.13074517],\n",
       "         [-0.13074517,  1.        ]])),\n",
       " (40,\n",
       "  array([[ 1.        , -0.02966041],\n",
       "         [-0.02966041,  1.        ]])),\n",
       " (41,\n",
       "  array([[ 1.        , -0.25572826],\n",
       "         [-0.25572826,  1.        ]])),\n",
       " (42,\n",
       "  array([[ 1.        , -0.21447965],\n",
       "         [-0.21447965,  1.        ]])),\n",
       " (43,\n",
       "  array([[1.        , 0.00460112],\n",
       "         [0.00460112, 1.        ]])),\n",
       " (44,\n",
       "  array([[ 1.        , -0.21992328],\n",
       "         [-0.21992328,  1.        ]])),\n",
       " (45,\n",
       "  array([[ 1.        , -0.11917482],\n",
       "         [-0.11917482,  1.        ]])),\n",
       " (46,\n",
       "  array([[1.        , 0.00634337],\n",
       "         [0.00634337, 1.        ]])),\n",
       " (47,\n",
       "  array([[ 1.        , -0.11552321],\n",
       "         [-0.11552321,  1.        ]])),\n",
       " (48,\n",
       "  array([[ 1.        , -0.04561558],\n",
       "         [-0.04561558,  1.        ]])),\n",
       " (49,\n",
       "  array([[1.        , 0.00346527],\n",
       "         [0.00346527, 1.        ]])),\n",
       " (50,\n",
       "  array([[ 1.        , -0.04260491],\n",
       "         [-0.04260491,  1.        ]])),\n",
       " (51,\n",
       "  array([[ 1.        , -0.01412385],\n",
       "         [-0.01412385,  1.        ]])),\n",
       " (52,\n",
       "  array([[1.        , 0.00629987],\n",
       "         [0.00629987, 1.        ]])),\n",
       " (53,\n",
       "  array([[ 1.        , -0.01363733],\n",
       "         [-0.01363733,  1.        ]])),\n",
       " (54,\n",
       "  array([[ 1.        , -0.00221383],\n",
       "         [-0.00221383,  1.        ]])),\n",
       " (55,\n",
       "  array([[ 1.        , -0.00221383],\n",
       "         [-0.00221383,  1.        ]])),\n",
       " (56,\n",
       "  array([[ 1.        , -0.00221383],\n",
       "         [-0.00221383,  1.        ]])),\n",
       " (57,\n",
       "  array([[nan, nan],\n",
       "         [nan,  1.]])),\n",
       " (58,\n",
       "  array([[nan, nan],\n",
       "         [nan,  1.]])),\n",
       " (59,\n",
       "  array([[nan, nan],\n",
       "         [nan,  1.]])),\n",
       " (60,\n",
       "  array([[nan, nan],\n",
       "         [nan,  1.]])),\n",
       " (61,\n",
       "  array([[nan, nan],\n",
       "         [nan,  1.]])),\n",
       " (62,\n",
       "  array([[nan, nan],\n",
       "         [nan,  1.]])),\n",
       " (63,\n",
       "  array([[ 1.        , -0.43175008],\n",
       "         [-0.43175008,  1.        ]])),\n",
       " (64,\n",
       "  array([[1.        , 0.01481359],\n",
       "         [0.01481359, 1.        ]])),\n",
       " (65,\n",
       "  array([[ 1.        , -0.12393547],\n",
       "         [-0.12393547,  1.        ]])),\n",
       " (66,\n",
       "  array([[ 1.        , -0.54610451],\n",
       "         [-0.54610451,  1.        ]])),\n",
       " (67,\n",
       "  array([[ 1.        , -0.00188867],\n",
       "         [-0.00188867,  1.        ]])),\n",
       " (68,\n",
       "  array([[ 1.        , -0.32497927],\n",
       "         [-0.32497927,  1.        ]])),\n",
       " (69,\n",
       "  array([[ 1.        , -0.61937306],\n",
       "         [-0.61937306,  1.        ]])),\n",
       " (70,\n",
       "  array([[1.        , 0.00118578],\n",
       "         [0.00118578, 1.        ]])),\n",
       " (71,\n",
       "  array([[ 1.        , -0.45190946],\n",
       "         [-0.45190946,  1.        ]])),\n",
       " (72,\n",
       "  array([[ 1.        , -0.63683167],\n",
       "         [-0.63683167,  1.        ]])),\n",
       " (73,\n",
       "  array([[ 1.        , -0.00764391],\n",
       "         [-0.00764391,  1.        ]])),\n",
       " (74,\n",
       "  array([[ 1.        , -0.51014743],\n",
       "         [-0.51014743,  1.        ]])),\n",
       " (75,\n",
       "  array([[ 1.        , -0.60883017],\n",
       "         [-0.60883017,  1.        ]])),\n",
       " (76,\n",
       "  array([[ 1.        , -0.01241756],\n",
       "         [-0.01241756,  1.        ]])),\n",
       " (77,\n",
       "  array([[ 1.        , -0.51642407],\n",
       "         [-0.51642407,  1.        ]])),\n",
       " (78,\n",
       "  array([[ 1.        , -0.54124795],\n",
       "         [-0.54124795,  1.        ]])),\n",
       " (79,\n",
       "  array([[1.        , 0.00106162],\n",
       "         [0.00106162, 1.        ]])),\n",
       " (80,\n",
       "  array([[ 1.        , -0.47351973],\n",
       "         [-0.47351973,  1.        ]])),\n",
       " (81,\n",
       "  array([[ 1.        , -0.45130549],\n",
       "         [-0.45130549,  1.        ]])),\n",
       " (82,\n",
       "  array([[ 1.        , -0.00862062],\n",
       "         [-0.00862062,  1.        ]])),\n",
       " (83,\n",
       "  array([[ 1.        , -0.40968143],\n",
       "         [-0.40968143,  1.        ]])),\n",
       " (84,\n",
       "  array([[ 1.       , -0.3491871],\n",
       "         [-0.3491871,  1.       ]])),\n",
       " (85,\n",
       "  array([[1.        , 0.00463316],\n",
       "         [0.00463316, 1.        ]])),\n",
       " (86,\n",
       "  array([[ 1.        , -0.32414091],\n",
       "         [-0.32414091,  1.        ]])),\n",
       " (87,\n",
       "  array([[ 1.        , -0.25037202],\n",
       "         [-0.25037202,  1.        ]])),\n",
       " (88,\n",
       "  array([[ 1.        , -0.00327166],\n",
       "         [-0.00327166,  1.        ]])),\n",
       " (89,\n",
       "  array([[ 1.        , -0.23724917],\n",
       "         [-0.23724917,  1.        ]])),\n",
       " (90,\n",
       "  array([[ 1.        , -0.16186345],\n",
       "         [-0.16186345,  1.        ]])),\n",
       " (91,\n",
       "  array([[ 1.        , -0.00371987],\n",
       "         [-0.00371987,  1.        ]])),\n",
       " (92,\n",
       "  array([[ 1.        , -0.15970635],\n",
       "         [-0.15970635,  1.        ]])),\n",
       " (93,\n",
       "  array([[ 1.        , -0.09232415],\n",
       "         [-0.09232415,  1.        ]])),\n",
       " (94,\n",
       "  array([[ 1.        , -0.00675584],\n",
       "         [-0.00675584,  1.        ]])),\n",
       " (95,\n",
       "  array([[ 1.        , -0.09259176],\n",
       "         [-0.09259176,  1.        ]])),\n",
       " (96,\n",
       "  array([[ 1.        , -0.04614923],\n",
       "         [-0.04614923,  1.        ]])),\n",
       " (97,\n",
       "  array([[1.        , 0.00304465],\n",
       "         [0.00304465, 1.        ]])),\n",
       " (98,\n",
       "  array([[ 1.        , -0.04602929],\n",
       "         [-0.04602929,  1.        ]]))]"
      ]
     },
     "execution_count": 43,
     "metadata": {},
     "output_type": "execute_result"
    }
   ],
   "source": [
    "correlations"
   ]
  },
  {
   "cell_type": "code",
   "execution_count": null,
   "metadata": {},
   "outputs": [],
   "source": []
  },
  {
   "cell_type": "code",
   "execution_count": null,
   "metadata": {},
   "outputs": [],
   "source": []
  },
  {
   "cell_type": "code",
   "execution_count": null,
   "metadata": {},
   "outputs": [],
   "source": []
  },
  {
   "cell_type": "code",
   "execution_count": null,
   "metadata": {},
   "outputs": [],
   "source": [
    "kwargs = {'ndim': 1, 'ntrees': 100, 'scoring_metric': 'depth'}\n",
    "CV = Cross_Validation(kfold=5, model_parameters=kwargs, sigkey='ttHto2B').get_model_name()"
   ]
  },
  {
   "cell_type": "code",
   "execution_count": null,
   "metadata": {},
   "outputs": [],
   "source": [
    "BB = dataset.load_dataset('BSM_preprocessed.h5', 'ttHto2B')\n",
    "x_train, x_test = dataset.create_xtrain_xtest()"
   ]
  },
  {
   "cell_type": "code",
   "execution_count": null,
   "metadata": {},
   "outputs": [],
   "source": [
    "import pickle\n",
    "import shap"
   ]
  },
  {
   "cell_type": "code",
   "execution_count": null,
   "metadata": {},
   "outputs": [],
   "source": [
    "model = pickle.load(open(CV[0], 'rb'))\n",
    "score = model.predict(BB, output=\"score\")"
   ]
  },
  {
   "cell_type": "code",
   "execution_count": null,
   "metadata": {},
   "outputs": [],
   "source": [
    "explainer = shap.TreeExplainer(model)\n"
   ]
  },
  {
   "cell_type": "code",
   "execution_count": null,
   "metadata": {},
   "outputs": [],
   "source": [
    "pred = model.predict(Xd, output_margin=True)\n",
    "\n",
    "explainer = shap.TreeExplainer(model)\n",
    "explanation = explainer(Xd)\n",
    "\n",
    "shap_values = explanation.values\n",
    "# make sure the SHAP values add up to marginal predictions\n",
    "np.abs(shap_values.sum(axis=1) + explanation.base_values - pred).max()"
   ]
  },
  {
   "cell_type": "code",
   "execution_count": null,
   "metadata": {},
   "outputs": [],
   "source": [
    "model=IsolationForest(n_estimators=100).fit(x_train)"
   ]
  },
  {
   "cell_type": "code",
   "execution_count": null,
   "metadata": {},
   "outputs": [],
   "source": [
    "from sklearn.ensemble import IsolationForest"
   ]
  },
  {
   "cell_type": "code",
   "execution_count": null,
   "metadata": {},
   "outputs": [],
   "source": [
    "explainer = shap.Explainer(model)\n",
    "sample_instance = BB\n",
    "shap_values = explainer(sample_instance)"
   ]
  },
  {
   "cell_type": "code",
   "execution_count": null,
   "metadata": {},
   "outputs": [],
   "source": [
    "import lime\n",
    "from lime import lime_tabular"
   ]
  },
  {
   "cell_type": "code",
   "execution_count": null,
   "metadata": {},
   "outputs": [],
   "source": [
    "explainer = lime_tabular.LimeTabularExplainer(BB)#,feature_names= feature_names,class_names=['Normal', 'Anomaly'])"
   ]
  },
  {
   "cell_type": "code",
   "execution_count": null,
   "metadata": {},
   "outputs": [],
   "source": [
    "explanation = explainer.explain_instance(x_test, model.decision_function, num_features=99)"
   ]
  },
  {
   "cell_type": "code",
   "execution_count": null,
   "metadata": {},
   "outputs": [],
   "source": []
  },
  {
   "cell_type": "code",
   "execution_count": null,
   "metadata": {},
   "outputs": [],
   "source": []
  },
  {
   "cell_type": "markdown",
   "metadata": {},
   "source": []
  },
  {
   "cell_type": "code",
   "execution_count": null,
   "metadata": {},
   "outputs": [],
   "source": [
    "import numpy as np\n",
    "\n",
    "np.shape(BB)"
   ]
  },
  {
   "cell_type": "code",
   "execution_count": null,
   "metadata": {},
   "outputs": [],
   "source": []
  },
  {
   "cell_type": "code",
   "execution_count": null,
   "metadata": {},
   "outputs": [],
   "source": []
  },
  {
   "cell_type": "code",
   "execution_count": null,
   "metadata": {},
   "outputs": [],
   "source": [
    "instance = new_data.loc[[12]]\n",
    "shap_instance = explainer.shap_values (instance)\n",
    "shap.initjs()\n",
    "shap.force_plot(explainer.expected_value, shap_instance, instance)"
   ]
  },
  {
   "cell_type": "code",
   "execution_count": null,
   "metadata": {},
   "outputs": [],
   "source": []
  },
  {
   "cell_type": "code",
   "execution_count": null,
   "metadata": {},
   "outputs": [],
   "source": [
    "oww = list(dataset.bsm_keys())"
   ]
  },
  {
   "cell_type": "code",
   "execution_count": null,
   "metadata": {},
   "outputs": [],
   "source": [
    "len(oww)"
   ]
  },
  {
   "cell_type": "code",
   "execution_count": null,
   "metadata": {},
   "outputs": [],
   "source": []
  },
  {
   "cell_type": "code",
   "execution_count": null,
   "metadata": {},
   "outputs": [],
   "source": [
    "kwargs = {'ndim': 1, 'ntrees': 100}#, 'scoring_metric': 'density'}\n",
    "scoring_metrics = ['depth', 'density', 'adj_depth', 'adj_density', 'boxed_ratio', 'boxed_density2', 'boxed_density']\n",
    "\n",
    "for score in scoring_metrics:\n",
    "    kwargs['scoring_metric'] = score\n",
    "    Cross_Validation(kfold=5, model_parameters=kwargs, sigkey='VBFHToInvisible').train_k_models()"
   ]
  },
  {
   "cell_type": "code",
   "execution_count": null,
   "metadata": {},
   "outputs": [],
   "source": [
    "mean_curve ={}\n",
    "error_curve={}\n",
    "base ={}\n",
    "auc_mean={} \n",
    "auc_unc={}\n",
    "scoring_metrics = ['depth', 'density', 'adj_depth', 'adj_density', 'boxed_ratio', 'boxed_density2', 'boxed_density']\n",
    "\n",
    "for idx, score in enumerate(scoring_metrics):\n",
    "    kwargs['scoring_metric'] = score\n",
    "    mean_curve[idx], error_curve[idx], base[idx], auc_mean[idx], auc_unc[idx] = Cross_Validation(kfold=5, model_parameters=kwargs, sigkey='VBFHToInvisible').get_kfold_uncertainty()\n",
    "    print(f'{score} done!')"
   ]
  },
  {
   "cell_type": "code",
   "execution_count": null,
   "metadata": {},
   "outputs": [],
   "source": []
  },
  {
   "cell_type": "code",
   "execution_count": null,
   "metadata": {},
   "outputs": [],
   "source": [
    "import pickle\n",
    "\n",
    "# Assume mean_curve, error_curve, base, auc_mean, auc_unc are your dictionaries\n",
    "\n",
    "# Save dictionaries to file\n",
    "with open('fivefold_scoringmerticscan_values/fivefold_scoringmetric_VBFHToInvisible.pkl', 'wb') as f:\n",
    "    pickle.dump(mean_curve, f)\n",
    "    pickle.dump(error_curve, f)\n",
    "    pickle.dump(base, f)\n",
    "    pickle.dump(auc_mean, f)\n",
    "    pickle.dump(auc_unc, f)\n",
    "\n",
    "print(\"Data saved successfully.\")\n"
   ]
  },
  {
   "cell_type": "code",
   "execution_count": null,
   "metadata": {},
   "outputs": [],
   "source": []
  },
  {
   "cell_type": "code",
   "execution_count": null,
   "metadata": {},
   "outputs": [],
   "source": [
    "import pickle\n",
    "\n",
    "# Load dictionaries from file\n",
    "with open('fivefold_scoringmerticscan_values/fivefold_scoringmetric_VBFHToInvisible.pkl', 'rb') as f:\n",
    "    mean_curve = pickle.load(f)\n",
    "    error_curve = pickle.load(f)\n",
    "    base = pickle.load(f)\n",
    "    auc_mean = pickle.load(f)\n",
    "    auc_unc = pickle.load(f)\n",
    "\n",
    "print(\"Data loaded successfully.\")\n"
   ]
  },
  {
   "cell_type": "code",
   "execution_count": null,
   "metadata": {},
   "outputs": [],
   "source": [
    "for idx, score in enumerate(scoring_metrics):\n",
    "    kwargs['scoring_metric'] = score\n",
    "    mean_curve[idx], error_curve[idx], base[idx], auc_mean[idx], auc_unc[idx] = Cross_Validation(kfold=5, model_parameters=kwargs, sigkey='GluGluHToGG_M-90').get_kfold_uncertainty()"
   ]
  },
  {
   "cell_type": "code",
   "execution_count": null,
   "metadata": {},
   "outputs": [],
   "source": [
    "import matplotlib.pyplot as plt\n",
    "import numpy as np"
   ]
  },
  {
   "cell_type": "code",
   "execution_count": null,
   "metadata": {},
   "outputs": [],
   "source": [
    "#plt.title('BB')\n",
    "\n",
    "\n",
    "\n",
    "scoring_metrics = ['depth', 'density', 'adj_depth', 'adj_density', 'boxed_ratio', 'boxed_density2', 'boxed_density']\n",
    "#scoring_metrics = ['adj_depth', 'adj_density', 'boxed_density', 'boxed_density2', 'boxed_ratio', 'depth']\n",
    "\n",
    "for idx, score in enumerate(scoring_metrics): \n",
    "\n",
    "    plt.figure(figsize=(8, 6))\n",
    "    plt.plot(np.linspace(0, 1), np.linspace(0, 1), '--', color='0.75')\n",
    "    plt.plot(base[idx],mean_curve[idx], linewidth=0.5,  label=f'{score} (AUC = %.1f%% $\\pm$ %.2f%%)' % (auc_mean[idx] * 100, auc_unc[idx] * 100))\n",
    "    plt.fill_between(base[idx],\n",
    "                mean_curve[idx] - error_curve[idx],\n",
    "                mean_curve[idx] + error_curve[idx],\n",
    "                alpha=0.5)\n",
    "\n",
    "    plt.xlabel('False Positive Rate',fontsize=20)\n",
    "    plt.ylabel('True Positive Rate',fontsize=20)\n",
    "\n",
    "    plt.title('5-fold ROC of VBFHToInvisible w.r.t different scoring metrics')\n",
    "\n",
    "    plt.semilogx()\n",
    "    plt.semilogy()\n",
    "    plt.xlim([10**-(6), 1.0])\n",
    "    plt.ylim([10**-(6), 1.05])\n",
    "\n",
    "    plt.legend(loc='lower right',fontsize=14)\n",
    "    plt.tight_layout()\n",
    "    plt.axvline(0.00001, color='red', linestyle='dashed', linewidth=1) # threshold value for measuring anomaly detection efficiency\n",
    "    plt.savefig(f'{score}')\n",
    "    #plt.savefig('all minus boxed_density')\n",
    "    plt.show()"
   ]
  },
  {
   "cell_type": "code",
   "execution_count": null,
   "metadata": {},
   "outputs": [],
   "source": []
  },
  {
   "cell_type": "code",
   "execution_count": null,
   "metadata": {},
   "outputs": [],
   "source": [
    "kwargs = {'ndim': 1, 'ntrees': 100, 'scoring_metric': 'boxed_ratio'}\n",
    "#scoring_metrics = ['depth', 'density', 'adj_depth', 'adj_density', 'boxed_ratio', 'boxed_density2', 'boxed_density']"
   ]
  },
  {
   "cell_type": "code",
   "execution_count": null,
   "metadata": {},
   "outputs": [],
   "source": [
    "ogg = Cross_Validation(kfold=5, model_parameters=kwargs, sigkey='ggXToYYTo2Mu2E_m18')"
   ]
  },
  {
   "cell_type": "code",
   "execution_count": null,
   "metadata": {},
   "outputs": [],
   "source": [
    "model_list = ogg.get_model_name()\n"
   ]
  },
  {
   "cell_type": "code",
   "execution_count": null,
   "metadata": {},
   "outputs": [],
   "source": [
    "fpr = {}\n",
    "tpr = {}\n",
    "auc = {}"
   ]
  },
  {
   "cell_type": "code",
   "execution_count": null,
   "metadata": {},
   "outputs": [],
   "source": [
    "ogg.cross_val_splits()"
   ]
  },
  {
   "cell_type": "code",
   "execution_count": null,
   "metadata": {},
   "outputs": [],
   "source": [
    "for idx, mdl in enumerate(model_list):\n",
    "    fpr[idx], tpr[idx], auc[idx] = ogg.predict_value(model=mdl)\n",
    "    "
   ]
  },
  {
   "cell_type": "code",
   "execution_count": null,
   "metadata": {},
   "outputs": [],
   "source": [
    "import matplotlib.pyplot as plt\n",
    "import numpy as np"
   ]
  },
  {
   "cell_type": "code",
   "execution_count": null,
   "metadata": {},
   "outputs": [],
   "source": [
    "plt.figure(figsize=(8, 6))\n",
    "plt.plot(np.linspace(0, 1), np.linspace(0, 1), '--', color='0.75')\n",
    "for idx, score in enumerate(model_list): \n",
    "    plt.plot(fpr[idx],tpr[idx], linewidth=0.5,  label=f'{idx} (AUC = %.1f%% )' % (auc[idx] * 100))\n",
    "\n",
    "#for num in range(7):\n",
    "num = 4\n",
    "plt.plot(base[num], mean_curve[num], linewidth=2, label='mean')\n",
    "\n",
    "plt.fill_between(base[num],\n",
    "                mean_curve[num] - error_curve[num],\n",
    "                mean_curve[num] + error_curve[num],\n",
    "                alpha=0.5, label='standard deviation')\n",
    "\n",
    "plt.xlabel('False Positive Rate',fontsize=20)\n",
    "plt.ylabel('True Positive Rate',fontsize=20)\n",
    "\n",
    "plt.title('5-fold ROC of ggXToYYTo2Mu2E_m18 w. scoring metric boxed_ratio')\n",
    "\n",
    "plt.semilogx()\n",
    "plt.semilogy()\n",
    "plt.xlim([10**-(6), 1.0])\n",
    "plt.ylim([10**-(6), 1.05])\n",
    "\n",
    "plt.legend(loc='lower right',fontsize=14)\n",
    "plt.tight_layout()\n",
    "plt.axvline(0.00001, color='red', linestyle='dashed', linewidth=1) # threshold value for measuring anomaly detection efficiency\n",
    "#plt.savefig(f'{score}')\n",
    "plt.savefig('boxed_ratio all')\n",
    "plt.show()\n",
    "\n"
   ]
  },
  {
   "cell_type": "code",
   "execution_count": null,
   "metadata": {},
   "outputs": [],
   "source": [
    "import pickle\n",
    "\n",
    "# Load dictionaries from file\n",
    "with open('fivefold_scoringmerticscan_values/fivefold_scoringmetric_ggXToYYTo2Mu2E_m18.pkl', 'rb') as f:\n",
    "    mean_curve = pickle.load(f)\n",
    "    error_curve = pickle.load(f)\n",
    "    base = pickle.load(f)\n",
    "    auc_mean = pickle.load(f)\n",
    "    auc_unc = pickle.load(f)\n",
    "\n",
    "print(\"Data loaded successfully.\")\n"
   ]
  },
  {
   "cell_type": "code",
   "execution_count": null,
   "metadata": {},
   "outputs": [],
   "source": []
  },
  {
   "cell_type": "code",
   "execution_count": null,
   "metadata": {},
   "outputs": [],
   "source": []
  },
  {
   "cell_type": "code",
   "execution_count": null,
   "metadata": {},
   "outputs": [],
   "source": [
    "    def predict_value(self, model, output1=\"score\"): #works!  # maybe need to indicate which fold we're at ????\n",
    "        loaded_model = pickle.load(open(model, 'rb'))\n",
    "        x_test, labels = self.get_testset_labels()\n",
    "        score_x_test = loaded_model.predict(x_test, output=output1)\n",
    "        FPR, TPR, _ = roc_curve(labels, score_x_test)\n",
    "        AUC = auc(FPR, TPR)\n",
    "        return FPR, TPR, AUC"
   ]
  },
  {
   "cell_type": "code",
   "execution_count": null,
   "metadata": {},
   "outputs": [],
   "source": [
    "mean_curve, error_curve, base, auc_mean, auc_unc = okk.get_kfold_uncertainty()"
   ]
  },
  {
   "cell_type": "code",
   "execution_count": null,
   "metadata": {},
   "outputs": [],
   "source": [
    "import matplotlib.pyplot as plt"
   ]
  },
  {
   "cell_type": "code",
   "execution_count": null,
   "metadata": {},
   "outputs": [],
   "source": [
    "plot_auroc_unc_(mean_curve, error_curve, base, auc_mean, auc_unc)"
   ]
  },
  {
   "cell_type": "code",
   "execution_count": null,
   "metadata": {},
   "outputs": [],
   "source": [
    "def plot_auroc_unc_(mean_curve, error_curve, base, auc_mean, auc_unc): \n",
    "    plt.title('BB')\n",
    "    plt.plot(base,mean_curve, linewidth=0.5,  label='depth (AUC = %.1f%% $\\pm$ %.1f%%)' % (auc_mean * 100, auc_unc * 100))\n",
    "    plt.semilogx()\n",
    "    plt.semilogy()\n",
    "    plt.fill_between(base,\n",
    "                mean_curve - error_curve,\n",
    "                mean_curve + error_curve,\n",
    "                alpha=0.5)\n",
    "    plt.legend(loc='lower right',fontsize=15)"
   ]
  },
  {
   "cell_type": "code",
   "execution_count": null,
   "metadata": {},
   "outputs": [],
   "source": [
    "kwargs = {'ndim': 1, 'ntrees': 100, 'scoring_metric': 'density'}\n",
    "okk = Cross_Validation(kfold=3, model_parameters=kwargs, sigkey='GluGluHToTauTau')\n",
    "okk.train_k_models()\n",
    "#oo,ll = okk.get_testset_labels()"
   ]
  },
  {
   "cell_type": "code",
   "execution_count": null,
   "metadata": {},
   "outputs": [],
   "source": []
  },
  {
   "cell_type": "code",
   "execution_count": null,
   "metadata": {},
   "outputs": [],
   "source": []
  },
  {
   "cell_type": "code",
   "execution_count": null,
   "metadata": {},
   "outputs": [],
   "source": [
    "okk.train_and_save_model()\n"
   ]
  },
  {
   "cell_type": "code",
   "execution_count": null,
   "metadata": {},
   "outputs": [],
   "source": []
  },
  {
   "cell_type": "code",
   "execution_count": null,
   "metadata": {},
   "outputs": [],
   "source": [
    "FPR, TPR, AUC = okk.predict_value()"
   ]
  },
  {
   "cell_type": "code",
   "execution_count": null,
   "metadata": {},
   "outputs": [],
   "source": [
    "import matplotlib.pyplot as plt"
   ]
  },
  {
   "cell_type": "code",
   "execution_count": null,
   "metadata": {},
   "outputs": [],
   "source": [
    "plt.plot(FPR, TPR)\n",
    "plt.semilogx()\n",
    "plt.semilogy()"
   ]
  },
  {
   "cell_type": "code",
   "execution_count": null,
   "metadata": {},
   "outputs": [],
   "source": [
    "okk.sig"
   ]
  },
  {
   "cell_type": "code",
   "execution_count": null,
   "metadata": {},
   "outputs": [],
   "source": []
  }
 ],
 "metadata": {
  "kernelspec": {
   "display_name": "SP",
   "language": "python",
   "name": "python3"
  },
  "language_info": {
   "codemirror_mode": {
    "name": "ipython",
    "version": 3
   },
   "file_extension": ".py",
   "mimetype": "text/x-python",
   "name": "python",
   "nbconvert_exporter": "python",
   "pygments_lexer": "ipython3",
   "version": "3.10.12"
  }
 },
 "nbformat": 4,
 "nbformat_minor": 2
}
