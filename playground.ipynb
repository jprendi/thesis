{
 "cells": [
  {
   "cell_type": "code",
   "execution_count": 1,
   "metadata": {},
   "outputs": [],
   "source": [
    "from scripts import dataset, metrics\n",
    "from sklearn.model_selection import KFold"
   ]
  },
  {
   "cell_type": "code",
   "execution_count": 2,
   "metadata": {},
   "outputs": [],
   "source": [
    "import numpy as np\n",
    "import h5py"
   ]
  },
  {
   "cell_type": "code",
   "execution_count": 48,
   "metadata": {},
   "outputs": [
    {
     "data": {
      "text/plain": [
       "9845600"
      ]
     },
     "execution_count": 48,
     "metadata": {},
     "output_type": "execute_result"
    }
   ],
   "source": [
    "len(bkg)"
   ]
  },
  {
   "cell_type": "code",
   "execution_count": 3,
   "metadata": {},
   "outputs": [],
   "source": [
    "bkg = dataset.load_dataset('NuGun_preprocessed.h5', 'full_data_cyl')"
   ]
  },
  {
   "cell_type": "code",
   "execution_count": 42,
   "metadata": {},
   "outputs": [],
   "source": [
    "s = 0"
   ]
  },
  {
   "cell_type": "code",
   "execution_count": 46,
   "metadata": {},
   "outputs": [
    {
     "data": {
      "text/plain": [
       "[2, 3, 47, 2]"
      ]
     },
     "execution_count": 46,
     "metadata": {},
     "output_type": "execute_result"
    }
   ],
   "source": [
    "s"
   ]
  },
  {
   "cell_type": "code",
   "execution_count": 45,
   "metadata": {},
   "outputs": [],
   "source": [
    "s = [2,3,47,2]"
   ]
  },
  {
   "cell_type": "code",
   "execution_count": 39,
   "metadata": {},
   "outputs": [],
   "source": [
    "kf = KFold(n_splits=50)"
   ]
  },
  {
   "cell_type": "code",
   "execution_count": 40,
   "metadata": {},
   "outputs": [],
   "source": [
    "oooo = list(kf.split(bkg))"
   ]
  },
  {
   "cell_type": "code",
   "execution_count": 41,
   "metadata": {},
   "outputs": [
    {
     "data": {
      "text/plain": [
       "[(array([ 196912,  196913,  196914, ..., 9845597, 9845598, 9845599]),\n",
       "  array([     0,      1,      2, ..., 196909, 196910, 196911])),\n",
       " (array([      0,       1,       2, ..., 9845597, 9845598, 9845599]),\n",
       "  array([196912, 196913, 196914, ..., 393821, 393822, 393823])),\n",
       " (array([      0,       1,       2, ..., 9845597, 9845598, 9845599]),\n",
       "  array([393824, 393825, 393826, ..., 590733, 590734, 590735])),\n",
       " (array([      0,       1,       2, ..., 9845597, 9845598, 9845599]),\n",
       "  array([590736, 590737, 590738, ..., 787645, 787646, 787647])),\n",
       " (array([      0,       1,       2, ..., 9845597, 9845598, 9845599]),\n",
       "  array([787648, 787649, 787650, ..., 984557, 984558, 984559])),\n",
       " (array([      0,       1,       2, ..., 9845597, 9845598, 9845599]),\n",
       "  array([ 984560,  984561,  984562, ..., 1181469, 1181470, 1181471])),\n",
       " (array([      0,       1,       2, ..., 9845597, 9845598, 9845599]),\n",
       "  array([1181472, 1181473, 1181474, ..., 1378381, 1378382, 1378383])),\n",
       " (array([      0,       1,       2, ..., 9845597, 9845598, 9845599]),\n",
       "  array([1378384, 1378385, 1378386, ..., 1575293, 1575294, 1575295])),\n",
       " (array([      0,       1,       2, ..., 9845597, 9845598, 9845599]),\n",
       "  array([1575296, 1575297, 1575298, ..., 1772205, 1772206, 1772207])),\n",
       " (array([      0,       1,       2, ..., 9845597, 9845598, 9845599]),\n",
       "  array([1772208, 1772209, 1772210, ..., 1969117, 1969118, 1969119])),\n",
       " (array([      0,       1,       2, ..., 9845597, 9845598, 9845599]),\n",
       "  array([1969120, 1969121, 1969122, ..., 2166029, 2166030, 2166031])),\n",
       " (array([      0,       1,       2, ..., 9845597, 9845598, 9845599]),\n",
       "  array([2166032, 2166033, 2166034, ..., 2362941, 2362942, 2362943])),\n",
       " (array([      0,       1,       2, ..., 9845597, 9845598, 9845599]),\n",
       "  array([2362944, 2362945, 2362946, ..., 2559853, 2559854, 2559855])),\n",
       " (array([      0,       1,       2, ..., 9845597, 9845598, 9845599]),\n",
       "  array([2559856, 2559857, 2559858, ..., 2756765, 2756766, 2756767])),\n",
       " (array([      0,       1,       2, ..., 9845597, 9845598, 9845599]),\n",
       "  array([2756768, 2756769, 2756770, ..., 2953677, 2953678, 2953679])),\n",
       " (array([      0,       1,       2, ..., 9845597, 9845598, 9845599]),\n",
       "  array([2953680, 2953681, 2953682, ..., 3150589, 3150590, 3150591])),\n",
       " (array([      0,       1,       2, ..., 9845597, 9845598, 9845599]),\n",
       "  array([3150592, 3150593, 3150594, ..., 3347501, 3347502, 3347503])),\n",
       " (array([      0,       1,       2, ..., 9845597, 9845598, 9845599]),\n",
       "  array([3347504, 3347505, 3347506, ..., 3544413, 3544414, 3544415])),\n",
       " (array([      0,       1,       2, ..., 9845597, 9845598, 9845599]),\n",
       "  array([3544416, 3544417, 3544418, ..., 3741325, 3741326, 3741327])),\n",
       " (array([      0,       1,       2, ..., 9845597, 9845598, 9845599]),\n",
       "  array([3741328, 3741329, 3741330, ..., 3938237, 3938238, 3938239])),\n",
       " (array([      0,       1,       2, ..., 9845597, 9845598, 9845599]),\n",
       "  array([3938240, 3938241, 3938242, ..., 4135149, 4135150, 4135151])),\n",
       " (array([      0,       1,       2, ..., 9845597, 9845598, 9845599]),\n",
       "  array([4135152, 4135153, 4135154, ..., 4332061, 4332062, 4332063])),\n",
       " (array([      0,       1,       2, ..., 9845597, 9845598, 9845599]),\n",
       "  array([4332064, 4332065, 4332066, ..., 4528973, 4528974, 4528975])),\n",
       " (array([      0,       1,       2, ..., 9845597, 9845598, 9845599]),\n",
       "  array([4528976, 4528977, 4528978, ..., 4725885, 4725886, 4725887])),\n",
       " (array([      0,       1,       2, ..., 9845597, 9845598, 9845599]),\n",
       "  array([4725888, 4725889, 4725890, ..., 4922797, 4922798, 4922799])),\n",
       " (array([      0,       1,       2, ..., 9845597, 9845598, 9845599]),\n",
       "  array([4922800, 4922801, 4922802, ..., 5119709, 5119710, 5119711])),\n",
       " (array([      0,       1,       2, ..., 9845597, 9845598, 9845599]),\n",
       "  array([5119712, 5119713, 5119714, ..., 5316621, 5316622, 5316623])),\n",
       " (array([      0,       1,       2, ..., 9845597, 9845598, 9845599]),\n",
       "  array([5316624, 5316625, 5316626, ..., 5513533, 5513534, 5513535])),\n",
       " (array([      0,       1,       2, ..., 9845597, 9845598, 9845599]),\n",
       "  array([5513536, 5513537, 5513538, ..., 5710445, 5710446, 5710447])),\n",
       " (array([      0,       1,       2, ..., 9845597, 9845598, 9845599]),\n",
       "  array([5710448, 5710449, 5710450, ..., 5907357, 5907358, 5907359])),\n",
       " (array([      0,       1,       2, ..., 9845597, 9845598, 9845599]),\n",
       "  array([5907360, 5907361, 5907362, ..., 6104269, 6104270, 6104271])),\n",
       " (array([      0,       1,       2, ..., 9845597, 9845598, 9845599]),\n",
       "  array([6104272, 6104273, 6104274, ..., 6301181, 6301182, 6301183])),\n",
       " (array([      0,       1,       2, ..., 9845597, 9845598, 9845599]),\n",
       "  array([6301184, 6301185, 6301186, ..., 6498093, 6498094, 6498095])),\n",
       " (array([      0,       1,       2, ..., 9845597, 9845598, 9845599]),\n",
       "  array([6498096, 6498097, 6498098, ..., 6695005, 6695006, 6695007])),\n",
       " (array([      0,       1,       2, ..., 9845597, 9845598, 9845599]),\n",
       "  array([6695008, 6695009, 6695010, ..., 6891917, 6891918, 6891919])),\n",
       " (array([      0,       1,       2, ..., 9845597, 9845598, 9845599]),\n",
       "  array([6891920, 6891921, 6891922, ..., 7088829, 7088830, 7088831])),\n",
       " (array([      0,       1,       2, ..., 9845597, 9845598, 9845599]),\n",
       "  array([7088832, 7088833, 7088834, ..., 7285741, 7285742, 7285743])),\n",
       " (array([      0,       1,       2, ..., 9845597, 9845598, 9845599]),\n",
       "  array([7285744, 7285745, 7285746, ..., 7482653, 7482654, 7482655])),\n",
       " (array([      0,       1,       2, ..., 9845597, 9845598, 9845599]),\n",
       "  array([7482656, 7482657, 7482658, ..., 7679565, 7679566, 7679567])),\n",
       " (array([      0,       1,       2, ..., 9845597, 9845598, 9845599]),\n",
       "  array([7679568, 7679569, 7679570, ..., 7876477, 7876478, 7876479])),\n",
       " (array([      0,       1,       2, ..., 9845597, 9845598, 9845599]),\n",
       "  array([7876480, 7876481, 7876482, ..., 8073389, 8073390, 8073391])),\n",
       " (array([      0,       1,       2, ..., 9845597, 9845598, 9845599]),\n",
       "  array([8073392, 8073393, 8073394, ..., 8270301, 8270302, 8270303])),\n",
       " (array([      0,       1,       2, ..., 9845597, 9845598, 9845599]),\n",
       "  array([8270304, 8270305, 8270306, ..., 8467213, 8467214, 8467215])),\n",
       " (array([      0,       1,       2, ..., 9845597, 9845598, 9845599]),\n",
       "  array([8467216, 8467217, 8467218, ..., 8664125, 8664126, 8664127])),\n",
       " (array([      0,       1,       2, ..., 9845597, 9845598, 9845599]),\n",
       "  array([8664128, 8664129, 8664130, ..., 8861037, 8861038, 8861039])),\n",
       " (array([      0,       1,       2, ..., 9845597, 9845598, 9845599]),\n",
       "  array([8861040, 8861041, 8861042, ..., 9057949, 9057950, 9057951])),\n",
       " (array([      0,       1,       2, ..., 9845597, 9845598, 9845599]),\n",
       "  array([9057952, 9057953, 9057954, ..., 9254861, 9254862, 9254863])),\n",
       " (array([      0,       1,       2, ..., 9845597, 9845598, 9845599]),\n",
       "  array([9254864, 9254865, 9254866, ..., 9451773, 9451774, 9451775])),\n",
       " (array([      0,       1,       2, ..., 9845597, 9845598, 9845599]),\n",
       "  array([9451776, 9451777, 9451778, ..., 9648685, 9648686, 9648687])),\n",
       " (array([      0,       1,       2, ..., 9648685, 9648686, 9648687]),\n",
       "  array([9648688, 9648689, 9648690, ..., 9845597, 9845598, 9845599]))]"
      ]
     },
     "execution_count": 41,
     "metadata": {},
     "output_type": "execute_result"
    }
   ],
   "source": [
    "oooo"
   ]
  },
  {
   "cell_type": "code",
   "execution_count": 21,
   "metadata": {},
   "outputs": [
    {
     "name": "stdout",
     "output_type": "stream",
     "text": [
      "Fold 0:\n",
      "  Train: index=[ 984560  984561  984562 ... 9845597 9845598 9845599]\n",
      "  Test:  index=[     0      1      2 ... 984557 984558 984559]\n",
      "Fold 1:\n",
      "  Train: index=[      0       1       2 ... 9845597 9845598 9845599]\n",
      "  Test:  index=[ 984560  984561  984562 ... 1969117 1969118 1969119]\n",
      "Fold 2:\n",
      "  Train: index=[      0       1       2 ... 9845597 9845598 9845599]\n",
      "  Test:  index=[1969120 1969121 1969122 ... 2953677 2953678 2953679]\n",
      "Fold 3:\n",
      "  Train: index=[      0       1       2 ... 9845597 9845598 9845599]\n",
      "  Test:  index=[2953680 2953681 2953682 ... 3938237 3938238 3938239]\n",
      "Fold 4:\n",
      "  Train: index=[      0       1       2 ... 9845597 9845598 9845599]\n",
      "  Test:  index=[3938240 3938241 3938242 ... 4922797 4922798 4922799]\n",
      "Fold 5:\n",
      "  Train: index=[      0       1       2 ... 9845597 9845598 9845599]\n",
      "  Test:  index=[4922800 4922801 4922802 ... 5907357 5907358 5907359]\n",
      "Fold 6:\n",
      "  Train: index=[      0       1       2 ... 9845597 9845598 9845599]\n",
      "  Test:  index=[5907360 5907361 5907362 ... 6891917 6891918 6891919]\n",
      "Fold 7:\n",
      "  Train: index=[      0       1       2 ... 9845597 9845598 9845599]\n",
      "  Test:  index=[6891920 6891921 6891922 ... 7876477 7876478 7876479]\n",
      "Fold 8:\n",
      "  Train: index=[      0       1       2 ... 9845597 9845598 9845599]\n",
      "  Test:  index=[7876480 7876481 7876482 ... 8861037 8861038 8861039]\n",
      "Fold 9:\n",
      "  Train: index=[      0       1       2 ... 8861037 8861038 8861039]\n",
      "  Test:  index=[8861040 8861041 8861042 ... 9845597 9845598 9845599]\n"
     ]
    }
   ],
   "source": [
    "for i, (train_index, test_index) in enumerate(kf.split(bkg)):\n",
    "    print(f\"Fold {i}:\")\n",
    "    print(f\"  Train: index={train_index}\")\n",
    "    print(f\"  Test:  index={test_index}\")"
   ]
  },
  {
   "cell_type": "code",
   "execution_count": 34,
   "metadata": {},
   "outputs": [
    {
     "name": "stdout",
     "output_type": "stream",
     "text": [
      "Train data shape: (7876480, 99)\n",
      "Test data shape: (1969120, 99)\n"
     ]
    }
   ],
   "source": [
    "kf = KFold(n_splits=5)\n",
    "kf_splits = list(kf.split(bkg))\n",
    "\n",
    "fold_number = 5  # Change to the desired fold number\n",
    "train_index, test_index = kf_splits[fold_number - 1]  # Subtract 1 since indexing starts from 0\n",
    "\n",
    "# Getting the actual data for the training and testing sets\n",
    "train_data = bkg[train_index]\n",
    "test_data = bkg[test_index]\n",
    "\n",
    "print(\"Train data shape:\", train_data.shape)\n",
    "print(\"Test data shape:\", test_data.shape)\n"
   ]
  },
  {
   "cell_type": "code",
   "execution_count": null,
   "metadata": {},
   "outputs": [],
   "source": []
  },
  {
   "cell_type": "code",
   "execution_count": 12,
   "metadata": {},
   "outputs": [
    {
     "name": "stdout",
     "output_type": "stream",
     "text": [
      "[ 984560  984561  984562 ... 9845597 9845598 9845599] [     0      1      2 ... 984557 984558 984559]\n",
      "[      0       1       2 ... 9845597 9845598 9845599] [ 984560  984561  984562 ... 1969117 1969118 1969119]\n",
      "[      0       1       2 ... 9845597 9845598 9845599] [1969120 1969121 1969122 ... 2953677 2953678 2953679]\n",
      "[      0       1       2 ... 9845597 9845598 9845599] [2953680 2953681 2953682 ... 3938237 3938238 3938239]\n",
      "[      0       1       2 ... 9845597 9845598 9845599] [3938240 3938241 3938242 ... 4922797 4922798 4922799]\n",
      "[      0       1       2 ... 9845597 9845598 9845599] [4922800 4922801 4922802 ... 5907357 5907358 5907359]\n",
      "[      0       1       2 ... 9845597 9845598 9845599] [5907360 5907361 5907362 ... 6891917 6891918 6891919]\n",
      "[      0       1       2 ... 9845597 9845598 9845599] [6891920 6891921 6891922 ... 7876477 7876478 7876479]\n",
      "[      0       1       2 ... 9845597 9845598 9845599] [7876480 7876481 7876482 ... 8861037 8861038 8861039]\n",
      "[      0       1       2 ... 8861037 8861038 8861039] [8861040 8861041 8861042 ... 9845597 9845598 9845599]\n"
     ]
    }
   ],
   "source": [
    "for train, test in kf.split(bkg):\n",
    "    print(\"%s %s\" % (train, test))"
   ]
  },
  {
   "cell_type": "code",
   "execution_count": null,
   "metadata": {},
   "outputs": [],
   "source": []
  },
  {
   "cell_type": "code",
   "execution_count": null,
   "metadata": {},
   "outputs": [],
   "source": []
  },
  {
   "cell_type": "code",
   "execution_count": null,
   "metadata": {},
   "outputs": [],
   "source": []
  },
  {
   "cell_type": "code",
   "execution_count": null,
   "metadata": {},
   "outputs": [],
   "source": []
  },
  {
   "cell_type": "code",
   "execution_count": 3,
   "metadata": {},
   "outputs": [],
   "source": [
    "x_train, x_test = dataset.create_xtrain_xtest()"
   ]
  },
  {
   "cell_type": "code",
   "execution_count": null,
   "metadata": {},
   "outputs": [],
   "source": []
  },
  {
   "cell_type": "code",
   "execution_count": 4,
   "metadata": {},
   "outputs": [],
   "source": [
    "signal = dataset.load_dataset('BSM_preprocessed.h5', 'GluGluHToTauTau')"
   ]
  },
  {
   "cell_type": "code",
   "execution_count": 5,
   "metadata": {},
   "outputs": [],
   "source": [
    "kwargs = {'ndim': 1, 'ntrees': 100}#, 'scoring_metric': 'density'}\n"
   ]
  },
  {
   "cell_type": "code",
   "execution_count": 6,
   "metadata": {},
   "outputs": [],
   "source": [
    "score_met = ['density', 'boxed_density']\n",
    "mean_curve = {}\n",
    "error_curve= {}\n",
    "base= {}\n",
    "auc_mean= {}\n",
    "auc_unc= {}\n",
    "\n",
    "for idx, scoring_metric in enumerate(score_met):\n",
    "    kwargs['scoring_metric'] = scoring_metric\n",
    "    mean_curve[idx], error_curve[idx], base[idx], auc_mean[idx], auc_unc[idx] = metrics.get_seed_uncertainty(kwargs, x_test, signal)"
   ]
  },
  {
   "cell_type": "code",
   "execution_count": 12,
   "metadata": {},
   "outputs": [
    {
     "data": {
      "image/png": "[encoded data removed]",
      "text/plain": [
       "<Figure size 640x480 with 1 Axes>"
      ]
     },
     "metadata": {},
     "output_type": "display_data"
    },
    {
     "ename": "",
     "evalue": "",
     "output_type": "error",
     "traceback": [
      "\u001b[1;31mThe Kernel crashed while executing code in the current cell or a previous cell. \n",
      "\u001b[1;31mPlease review the code in the cell(s) to identify a possible cause of the failure. \n",
      "\u001b[1;31mClick <a href='https://aka.ms/vscodeJupyterKernelCrash'>here</a> for more info. \n",
      "\u001b[1;31mView Jupyter <a href='command:jupyter.viewOutput'>log</a> for further details."
     ]
    }
   ],
   "source": [
    "for i in range(0,2):\n",
    "    plt.plot(base[i], mean_curve[i], lw=0.5, label='BB (AUC = %.1f%% $\\pm$ %.1f%%)' % (auc_mean[i] * 100, auc_unc[i] * 100))\n",
    "    plt.fill_between(base[i],\n",
    "                    mean_curve[i] - error_curve[i],\n",
    "                    mean_curve[i] + error_curve[i],\n",
    "                    alpha=0.4,\n",
    "                label = 'depth')\n",
    "    plt.legend(loc='lower right',fontsize=15)"
   ]
  },
  {
   "cell_type": "code",
   "execution_count": 7,
   "metadata": {},
   "outputs": [],
   "source": [
    "import matplotlib.pyplot as plt"
   ]
  },
  {
   "cell_type": "code",
   "execution_count": 27,
   "metadata": {},
   "outputs": [
    {
     "data": {
      "text/plain": [
       "{0: 0.7986359643537262,\n",
       " 1: 0.798894385700199,\n",
       " 2: 0.7914440939541036,\n",
       " 3: 0.8164322451129566,\n",
       " 4: 0.7962535440894594,\n",
       " 5: 0.8166073000252623,\n",
       " 6: 0.8167336142908777,\n",
       " 7: 0.7875644795157288,\n",
       " 8: 0.8149509737776037,\n",
       " 9: 0.8155906594231099,\n",
       " 10: 0.8152116075480615,\n",
       " 11: 0.6856471833131171,\n",
       " 12: 0.6847025481498242,\n",
       " 13: 0.8063029945019374,\n",
       " 14: 0.8145165669428285,\n",
       " 15: 0.6779728681669391,\n",
       " 16: 0.8085602685361672,\n",
       " 17: 0.8087960527515912,\n",
       " 18: 0.8161933687439528,\n",
       " 19: 0.7914397526644685,\n",
       " 20: 0.816177606890812,\n",
       " 21: 0.7971261058382384,\n",
       " 22: 0.816577988429546,\n",
       " 23: 0.7892250817075736,\n",
       " 24: 0.7893128882682875,\n",
       " 25: 0.7964191482840906,\n",
       " 26: 0.8149870709987949,\n",
       " 27: 0.8166177955427868,\n",
       " 28: 0.8144551019312485,\n",
       " 29: 0.68847014150474,\n",
       " 30: 0.8065278028620422,\n",
       " 31: 0.8144568993467628,\n",
       " 32: 0.8149147444428694,\n",
       " 33: 0.6835134364863769,\n",
       " 34: 0.8077693991648738}"
      ]
     },
     "execution_count": 27,
     "metadata": {},
     "output_type": "execute_result"
    }
   ],
   "source": [
    "aucs"
   ]
  },
  {
   "cell_type": "code",
   "execution_count": 28,
   "metadata": {},
   "outputs": [],
   "source": [
    "import numpy as np"
   ]
  },
  {
   "cell_type": "code",
   "execution_count": 31,
   "metadata": {},
   "outputs": [],
   "source": [
    "unc = np.std(list(aucs.values()))"
   ]
  },
  {
   "cell_type": "code",
   "execution_count": 37,
   "metadata": {},
   "outputs": [
    {
     "data": {
      "text/plain": [
       "<matplotlib.legend.Legend at 0x1867f3fd0>"
      ]
     },
     "execution_count": 37,
     "metadata": {},
     "output_type": "execute_result"
    },
    {
     "data": {
      "image/png": "[encoded data removed]",
      "text/plain": [
       "<Figure size 640x480 with 1 Axes>"
      ]
     },
     "metadata": {},
     "output_type": "display_data"
    }
   ],
   "source": [
    "plt.plot(base, mean_curve, lw=0.5, label='BB (AUC = %.1f%% $\\pm$ %.1f%%)' % (aucs[0] * 100, unc * 100))\n",
    "plt.fill_between(base,\n",
    "                mean_curve - error_curve,\n",
    "                mean_curve + error_curve,\n",
    "                alpha=0.5,\n",
    "            label = 'depth')\n",
    "plt.legend(loc='lower right',fontsize=15)"
   ]
  },
  {
   "cell_type": "code",
   "execution_count": null,
   "metadata": {},
   "outputs": [],
   "source": []
  },
  {
   "cell_type": "code",
   "execution_count": null,
   "metadata": {},
   "outputs": [],
   "source": [
    "askj"
   ]
  },
  {
   "cell_type": "code",
   "execution_count": null,
   "metadata": {},
   "outputs": [],
   "source": []
  },
  {
   "cell_type": "code",
   "execution_count": null,
   "metadata": {},
   "outputs": [],
   "source": []
  },
  {
   "cell_type": "code",
   "execution_count": null,
   "metadata": {},
   "outputs": [],
   "source": []
  },
  {
   "cell_type": "code",
   "execution_count": null,
   "metadata": {},
   "outputs": [],
   "source": []
  },
  {
   "cell_type": "code",
   "execution_count": null,
   "metadata": {},
   "outputs": [],
   "source": [
    "dasf"
   ]
  },
  {
   "cell_type": "code",
   "execution_count": null,
   "metadata": {},
   "outputs": [],
   "source": [
    "x_train, x_test = dataset.create_xtrain_xtest()\n",
    "signal = dataset.load_dataset('BSM_preprocesssed.h5', 'GluGluHToTauTau')"
   ]
  },
  {
   "cell_type": "code",
   "execution_count": null,
   "metadata": {},
   "outputs": [],
   "source": [
    "kwargs = {'ndim': 1, 'ntrees': 100}#, 'scoring_metric': 'density'}\n"
   ]
  },
  {
   "cell_type": "code",
   "execution_count": null,
   "metadata": {},
   "outputs": [],
   "source": [
    "# seed_choice = [0,1,2,3,4]\n",
    "# scoring_metrics = ['boxed_density','boxed_density2']\n",
    "# for scores in scoring_metrics:\n",
    "#     kwargs['scoring_metric'] = scores\n",
    "#     for seed in seed_choice:\n",
    "#         kwargs['random_seed'] = seed\n",
    "#         op = metrics.train_and_save_model(kwargs, x_train)\n",
    "#         print(op)"
   ]
  },
  {
   "cell_type": "code",
   "execution_count": null,
   "metadata": {},
   "outputs": [],
   "source": [
    "mean_curve = {} \n",
    "error_curve = {}\n",
    "base = {}\n",
    "scoring_metrics = ['depth', 'density', 'adj_depth', 'adj_density', 'boxed_ratio', 'boxed_density','boxed_density2']\n",
    "for scoring in scoring_metrics:\n",
    "    kwargs['scoring_metric']  = scoring\n",
    "    mean_curve[scoring], error_curve[scoring], base[scoring] = metrics.get_seed_uncertainty(kwargs, x_test, signal)\n",
    "    print(scoring)"
   ]
  },
  {
   "cell_type": "code",
   "execution_count": null,
   "metadata": {},
   "outputs": [],
   "source": [
    "import matplotlib.pyplot as plt\n",
    "\n",
    "# scoring_metrics = ['depth', 'density', 'adj_depth', 'adj_density', 'boxed_ratio','boxed_density2']\n",
    "\n",
    "scoring_metrics = ['boxed_density']\n",
    "\n",
    "plt.figure(figsize=(10, 10))\n",
    "for scoring in scoring_metrics:\n",
    "\n",
    "    plt.plot(base[scoring],mean_curve[scoring], linewidth=1, label=f'{scoring}') #(AUC = %.1f%%)' % (AUC * 100))\n",
    "    \n",
    "    plt.fill_between(base[scoring],\n",
    "                mean_curve[scoring] - error_curve[scoring],\n",
    "                mean_curve[scoring] + error_curve[scoring],\n",
    "                alpha=0.5,\n",
    "            label = scoring)\n",
    "    print(scoring)\n",
    "plt.plot(np.linspace(0, 1), np.linspace(0, 1), '--', color='0.75')\n",
    "plt.xlabel('False Positive Rate',fontsize=20)\n",
    "plt.ylabel('True Positive Rate',fontsize=20)    \n",
    "plt.semilogx()\n",
    "plt.semilogy()  \n",
    "plt.xlim([10**-(6), 1.0])\n",
    "plt.ylim([10**-(6), 1.05])  \n",
    "plt.legend()\n",
    "plt.savefig('boxden')"
   ]
  },
  {
   "cell_type": "code",
   "execution_count": null,
   "metadata": {},
   "outputs": [],
   "source": []
  },
  {
   "cell_type": "code",
   "execution_count": null,
   "metadata": {},
   "outputs": [],
   "source": [
    "metrics.plot_auroc_unc_(mean_curve, error_curve, base)\n"
   ]
  },
  {
   "cell_type": "code",
   "execution_count": null,
   "metadata": {},
   "outputs": [],
   "source": []
  },
  {
   "cell_type": "code",
   "execution_count": null,
   "metadata": {},
   "outputs": [],
   "source": []
  },
  {
   "cell_type": "code",
   "execution_count": null,
   "metadata": {},
   "outputs": [],
   "source": []
  },
  {
   "cell_type": "code",
   "execution_count": null,
   "metadata": {},
   "outputs": [],
   "source": [
    "dafasdfas"
   ]
  },
  {
   "cell_type": "code",
   "execution_count": null,
   "metadata": {},
   "outputs": [],
   "source": [
    "def get_seed_uncertainty(kwargs, x_test, signal):\n",
    "    # here we assume that we have already trained the models :-)\n",
    "    model_string = \"trained_models/model__\" + \"__\".join([f\"{key}_{value}\" for key, value in kwargs.items()])+\"*\"\n",
    "    model_names = glob.glob(model_string)\n",
    "    fprs = {}\n",
    "    tprs = {}\n",
    "    aucs = {}\n",
    "    for i in range(len(model_names)):\n",
    "        fprs[i], tprs[i], aucs[i] = metrics.predict_value(model=model_names[i], x_test=x_test, signal=signal)\n",
    "\n",
    "    # interpolate\n",
    "\n",
    "    interp_tpr={}\n",
    "    base = np.exp(np.linspace(math.log(0.00000005), 0., 1000000)) # bc we are interested in the loglog plot later! :)\n",
    "    seeds = [0,1,2,3,4]#,39, 23123]\n",
    "    for i in seeds:\n",
    "        interp_tpr[i] = np.interp(base, fprs[i], tprs[i])\n",
    "\n",
    "    mean_curve = np.mean(list(interp_tpr.values()), axis=0)\n",
    "    error_curve = np.std(list(interp_tpr.values()), axis=0)\n",
    "\n",
    "    return mean_curve, error_curve, base\n",
    "\n",
    "\n",
    "\n",
    "def plot_auroc_unc_(mean_curve, error_curve, base):    \n",
    "    plt.plot(base,mean_curve, linewidth=1.5)\n",
    "    plt.semilogx()\n",
    "    plt.semilogy()\n",
    "    plt.fill_between(base,\n",
    "                mean_curve - error_curve,\n",
    "                mean_curve + error_curve,\n",
    "                alpha=0.5,\n",
    "            label = 'depth')\n",
    "    plt.legend()"
   ]
  },
  {
   "cell_type": "code",
   "execution_count": null,
   "metadata": {},
   "outputs": [],
   "source": [
    "x_train, x_test = dataset.create_xtrain_xtest()\n",
    "signal = dataset.load_dataset('BSM_preprocessed.h5', 'GluGluHToTauTau')"
   ]
  },
  {
   "cell_type": "code",
   "execution_count": null,
   "metadata": {},
   "outputs": [],
   "source": [
    "kwargs = {'ndim': 1, 'ntrees': 100, 'scoring_metric': 'depth'}\n",
    "mean, std, base = get_seed_uncertainty(kwargs=kwargs, x_test=x_test, signal=signal)"
   ]
  },
  {
   "cell_type": "code",
   "execution_count": null,
   "metadata": {},
   "outputs": [],
   "source": [
    "import matplotlib.pyplot as plt"
   ]
  },
  {
   "cell_type": "code",
   "execution_count": null,
   "metadata": {},
   "outputs": [],
   "source": [
    "plot_auroc_unc_(mean, std, base)\n",
    "plt.xlim([10**-(6), 1.0])\n",
    "plt.ylim([10**-(6), 1.05])"
   ]
  },
  {
   "cell_type": "code",
   "execution_count": null,
   "metadata": {},
   "outputs": [],
   "source": []
  },
  {
   "cell_type": "code",
   "execution_count": null,
   "metadata": {},
   "outputs": [],
   "source": []
  },
  {
   "cell_type": "code",
   "execution_count": null,
   "metadata": {},
   "outputs": [],
   "source": [
    "kwargs = {'ndim': 1, 'ntrees': 100, 'scoring_metric': 'depth'}\n",
    "model_string = \"trained_models/model__\" + \"__\".join([f\"{key}_{value}\" for key, value in kwargs.items()])+\"*\"\n"
   ]
  },
  {
   "cell_type": "code",
   "execution_count": null,
   "metadata": {},
   "outputs": [],
   "source": [
    "type()"
   ]
  },
  {
   "cell_type": "code",
   "execution_count": null,
   "metadata": {},
   "outputs": [],
   "source": []
  },
  {
   "cell_type": "code",
   "execution_count": null,
   "metadata": {},
   "outputs": [],
   "source": []
  },
  {
   "cell_type": "code",
   "execution_count": null,
   "metadata": {},
   "outputs": [],
   "source": [
    "kwargs = {'ndim': 1, 'ntrees': 100, 'scoring_metric': 'depth'}\n",
    "\n",
    "model_string = \"trained_models/model__\" + \"__\".join([f\"{key}_{value}\" for key, value in kwargs.items()])\n",
    "print(model_string)\n",
    "kwargs['random_seed'] = i"
   ]
  },
  {
   "cell_type": "code",
   "execution_count": null,
   "metadata": {},
   "outputs": [],
   "source": [
    "import glob\n",
    "\n",
    "# Define the pattern to match files\n",
    "pattern = 'trained_models/model__ndim_1__ntrees_100__scoring_metric_depth*'\n",
    "\n",
    "# Get a list of file paths matching the pattern\n",
    "matching_files = glob.glob(pattern)\n",
    "\n",
    "# Print the names of the matching files\n",
    "for file_path in matching_files:\n",
    "    print(file_path)\n",
    "\n"
   ]
  },
  {
   "cell_type": "code",
   "execution_count": null,
   "metadata": {},
   "outputs": [],
   "source": [
    "matching_files"
   ]
  },
  {
   "cell_type": "code",
   "execution_count": null,
   "metadata": {},
   "outputs": [],
   "source": [
    "model_string"
   ]
  },
  {
   "cell_type": "code",
   "execution_count": null,
   "metadata": {},
   "outputs": [],
   "source": [
    "rands = [0, 1, 2, 3, 4]  \n",
    "\n",
    "model_names = {}\n",
    "fprs = {}\n",
    "tprs = {}\n",
    "aucs = {}\n",
    "\n",
    "for i in rands:\n",
    "    kwargs = {'ndim': 1, 'ntrees': 100, 'scoring_metric': 'depth', 'random_seed': i}\n",
    "    model_names[i] = metrics.train_and_save_model(kwargs, x_train)\n",
    "    fprs[i], tprs[i], aucs[i] = metrics.predict_value(model=model_names[i], x_test=x_test, signal=signal)"
   ]
  },
  {
   "cell_type": "code",
   "execution_count": null,
   "metadata": {},
   "outputs": [],
   "source": [
    "import matplotlib.pyplot as plt\n",
    "plt.plot(fprs[0],tprs[0])\n",
    "plt.plot(fprs[1],tprs[1])\n",
    "plt.plot(fprs[2],tprs[2])\n",
    "plt.plot(fprs[3],tprs[3])\n",
    "plt.plot(fprs[4],tprs[4])\n",
    "plt.semilogx()\n",
    "plt.semilogy()"
   ]
  },
  {
   "cell_type": "code",
   "execution_count": null,
   "metadata": {},
   "outputs": [],
   "source": [
    "import matplotlib.pyplot as plt\n",
    "plt.plot(fprs[0],tprs[0])\n",
    "plt.plot(fprs[1],tprs[1])\n",
    "plt.plot(fprs[2],tprs[2])\n",
    "plt.plot(fprs[3],tprs[3])\n",
    "plt.plot(fprs[4],tprs[4])\n",
    "plt.semilogx()\n",
    "plt.semilogy()\n",
    "plt.xlim(0.0000001, 0.000001)\n",
    "plt.ylim(0.00001, 0.0001)"
   ]
  },
  {
   "cell_type": "code",
   "execution_count": null,
   "metadata": {},
   "outputs": [],
   "source": [
    "import math\n",
    "interp_tpr={}\n",
    "base = np.exp(np.linspace(math.log(0.00000005), 0., 1000000)) # bc we are interested in the loglog plot later! :)\n",
    "\n",
    "for i in range(0,5):\n",
    "    interp_tpr[i] = np.interp(base, fprs[i], tprs[i])\n",
    "\n",
    "\n",
    "offo = np.mean(list(interp_tpr.values()), axis=0)\n",
    "obb = np.std(list(interp_tpr.values()), axis=0)"
   ]
  },
  {
   "cell_type": "code",
   "execution_count": null,
   "metadata": {},
   "outputs": [],
   "source": [
    "offo = np.mean(list(interp_tpr.values()), axis=0)\n",
    "obb = np.std(list(interp_tpr.values()), axis=0)"
   ]
  },
  {
   "cell_type": "code",
   "execution_count": null,
   "metadata": {},
   "outputs": [],
   "source": [
    "# for i in range(0,5):\n",
    "#     plt.plot(fprs[i],tprs[i], linewidth=0.3)\n",
    "plt.plot(base,offo, linewidth=1.5)\n",
    "plt.semilogx()\n",
    "plt.semilogy()\n",
    "plt.fill_between(base,\n",
    "            offo - obb,\n",
    "            offo + obb,\n",
    "            alpha=0.5,\n",
    "            color='red'\n",
    "        )"
   ]
  },
  {
   "cell_type": "code",
   "execution_count": null,
   "metadata": {},
   "outputs": [],
   "source": []
  },
  {
   "cell_type": "code",
   "execution_count": null,
   "metadata": {},
   "outputs": [],
   "source": []
  },
  {
   "cell_type": "code",
   "execution_count": null,
   "metadata": {},
   "outputs": [],
   "source": []
  },
  {
   "cell_type": "code",
   "execution_count": null,
   "metadata": {},
   "outputs": [],
   "source": []
  },
  {
   "cell_type": "code",
   "execution_count": null,
   "metadata": {},
   "outputs": [],
   "source": [
    "interp_tprs"
   ]
  },
  {
   "cell_type": "code",
   "execution_count": null,
   "metadata": {},
   "outputs": [],
   "source": []
  },
  {
   "cell_type": "code",
   "execution_count": null,
   "metadata": {},
   "outputs": [],
   "source": []
  },
  {
   "cell_type": "code",
   "execution_count": null,
   "metadata": {},
   "outputs": [],
   "source": []
  },
  {
   "cell_type": "code",
   "execution_count": null,
   "metadata": {},
   "outputs": [],
   "source": []
  },
  {
   "cell_type": "code",
   "execution_count": null,
   "metadata": {},
   "outputs": [],
   "source": []
  },
  {
   "cell_type": "code",
   "execution_count": null,
   "metadata": {},
   "outputs": [],
   "source": [
    "for i in range(0,5):\n",
    "    plt.plot(base, interp_tpr[i])\n",
    "    plt.plot(fprs[i],tprs[i])\n",
    "    plt.semilogx()\n",
    "    plt.semilogy()\n",
    "    plt.show()"
   ]
  },
  {
   "cell_type": "code",
   "execution_count": null,
   "metadata": {},
   "outputs": [],
   "source": [
    "plt.plot(fprs[0],tprs[0])\n",
    "plt.plot(base, interp_tpr[0])\n",
    "\n",
    "plt.semilogx()\n",
    "plt.semilogy()"
   ]
  },
  {
   "cell_type": "code",
   "execution_count": null,
   "metadata": {},
   "outputs": [],
   "source": [
    "# import math\n",
    "# interp_tpr={}\n",
    "# # base = np.exp(np.linspace(math.log(0.0000005), 0., 1000000)) # bc we are interested in the loglog plot later! :)\n",
    "# base = np.linspace(math.log(0.0000005), 0., 1000000) # bc we are interested in the loglog plot later! :)\n",
    "\n",
    "# for i in range(0,5):\n",
    "#     interp_tpr[i] = interp(base, fprs[i], tprs[i])"
   ]
  },
  {
   "cell_type": "code",
   "execution_count": null,
   "metadata": {},
   "outputs": [],
   "source": [
    "datasets = list(interp_tpr.values())\n",
    "# std_dev = np.std(datasets, axis=0)\n",
    "# base_mean = np.mean(datasets, axis=0)"
   ]
  },
  {
   "cell_type": "code",
   "execution_count": null,
   "metadata": {},
   "outputs": [],
   "source": []
  },
  {
   "cell_type": "code",
   "execution_count": null,
   "metadata": {},
   "outputs": [],
   "source": []
  },
  {
   "cell_type": "code",
   "execution_count": null,
   "metadata": {},
   "outputs": [],
   "source": []
  },
  {
   "cell_type": "code",
   "execution_count": null,
   "metadata": {},
   "outputs": [],
   "source": []
  },
  {
   "cell_type": "code",
   "execution_count": null,
   "metadata": {},
   "outputs": [],
   "source": []
  },
  {
   "cell_type": "code",
   "execution_count": null,
   "metadata": {},
   "outputs": [],
   "source": []
  },
  {
   "cell_type": "code",
   "execution_count": null,
   "metadata": {},
   "outputs": [],
   "source": [
    "dasflfa"
   ]
  },
  {
   "cell_type": "code",
   "execution_count": null,
   "metadata": {},
   "outputs": [],
   "source": [
    "# def roc_curves_uncert(\n",
    "#     tpr: np.ndarray,\n",
    "#     fprs: np.ndarray,\n",
    "#     fprs_errs: np.ndarray,\n",
    "#     aucs: np.ndarray,\n",
    "#     aucs_errs: np.ndarray,\n",
    "#     fats: np.ndarray,\n",
    "#     fats_errs: np.ndarray,\n",
    "#     outdir: str,\n",
    "# ):\n",
    "#     \"\"\"Plots ROC curves given fprs and tprs for each class.\"\"\"\n",
    "#     labels = [\"Gluon\", \"Quark\", \"W\", \"Z\", \"Top\"]\n",
    "#     cols = [\"#648FFF\", \"#785EF0\", \"#DC267F\", \"#FE6100\", \"#FFB000\"]\n",
    "#     tpr_baseline = np.linspace(0.025, 0.99, 100)\n",
    "#     for idx, label in enumerate(labels):\n",
    "#         plt.plot(\n",
    "#             tpr,\n",
    "#             fprs[idx],\n",
    "#             color=cols[idx],\n",
    "#             label=f\"{label}: {aucs[idx]*100:.1f}%; FAT: {fats[idx]:.4f} $\\\\pm$ {fats_errs[idx]:.4f}\",\n",
    "#         )\n",
    "#         plt.fill_between(\n",
    "#             tpr,\n",
    "#             fprs[idx] - fprs_errs[idx],\n",
    "#             fprs[idx] + fprs_errs[idx],\n",
    "#             color=cols[idx],\n",
    "#             alpha=0.5,\n",
    "#         )\n",
    "\n",
    "#     plt.xlabel(\"True Positive Rate\")\n",
    "#     plt.ylabel(\"False Positive Rate\")\n",
    "#     plt.ylim(0.001, 1)\n",
    "#     plt.semilogy()\n",
    "\n",
    "#     plt.legend()\n",
    "#     plt.savefig(os.path.join(outdir, \"roc_curves.pdf\"))\n",
    "#     plt.close()\n",
    "#     print(f\"ROC curves plot saved to {outdir}.\")"
   ]
  },
  {
   "cell_type": "code",
   "execution_count": null,
   "metadata": {},
   "outputs": [],
   "source": [
    "# def find_nearest(array: np.ndarray, value: float):\n",
    "#     \"\"\"Finds the index of the nearest value in an array to a given value.\"\"\"\n",
    "#     array = np.asarray(array)\n",
    "#     return (np.abs(array - value)).argmin()"
   ]
  },
  {
   "cell_type": "code",
   "execution_count": null,
   "metadata": {},
   "outputs": [],
   "source": [
    "# def roc_curves(outdir: str, y_pred: np.ndarray, y_test: np.ndarray):\n",
    "#     \"\"\"Plot the ROC curves for the labels of the jet data set.\"\"\"\n",
    "#     labels = [\"Gluon\", \"Quark\", \"W\", \"Z\", \"Top\"]\n",
    "#     cols = [\"#648FFF\", \"#785EF0\", \"#DC267F\", \"#FE6100\", \"#FFB000\"]\n",
    "#     tpr_baseline = np.linspace(0.025, 0.99, 100)\n",
    "#     fprs = []\n",
    "#     aucs = []\n",
    "#     fprs_at_tprs = []\n",
    "#     for idx, label in enumerate(labels):\n",
    "#         fpr, tpr, thr = metrics.roc_curve(y_test[:, idx], y_pred[:, idx])\n",
    "#         auc = metrics.auc(fpr, tpr)\n",
    "#         aucs.append(auc)\n",
    "#         fpr_baseline = np.interp(tpr_baseline, tpr, fpr)\n",
    "#         fprs.append(fpr_baseline)\n",
    "#         fpr_baseline.astype(\"float32\").tofile(os.path.join(outdir, f\"fpr_{label}.dat\"))\n",
    "#         tpr_baseline.astype(\"float32\").tofile(os.path.join(outdir, f\"tpr_{label}.dat\"))\n",
    "#         tpr_idx = find_nearest(tpr, 0.8)\n",
    "#         plt.plot(\n",
    "#             tpr,\n",
    "#             fpr,\n",
    "#             color=cols[idx],\n",
    "#             label=f\"{label}: AUC = {auc*100:.1f}%; FPR @ 80% TPR: {fpr[tpr_idx]:.3f}\",\n",
    "#         )\n",
    "#         fprs_at_tprs.append(fpr[tpr_idx])\n",
    "\n",
    "#     plt.xlabel(\"True Positive Rate\")\n",
    "#     plt.ylabel(\"False Positive Rate\")\n",
    "#     plt.ylim(0.001, 1)\n",
    "#     plt.semilogy()\n",
    "\n",
    "#     plt.legend()\n",
    "#     plt.savefig(os.path.join(outdir, \"roc_curves.pdf\"))\n",
    "#     plt.close()\n",
    "#     print(f\"ROC curves plot saved to {outdir}.\")\n",
    "\n",
    "#     return fprs, tpr_baseline, aucs, fprs_at_tprs"
   ]
  },
  {
   "cell_type": "code",
   "execution_count": null,
   "metadata": {},
   "outputs": [],
   "source": [
    "# np.mean(value, axis=0), f\"{key}_errs\": np.std(value, axis=0)"
   ]
  },
  {
   "cell_type": "code",
   "execution_count": null,
   "metadata": {},
   "outputs": [],
   "source": [
    "from scipy import interp"
   ]
  },
  {
   "cell_type": "code",
   "execution_count": null,
   "metadata": {},
   "outputs": [],
   "source": [
    "#   fig = plt.figure()\n",
    "#   ax = fig.add_subplot()\n",
    "    \n",
    "#   for i, label in enumerate(labels):\n",
    "    \n",
    "#     npoints = 50\n",
    "#     base_fpr = np.exp(np.linspace(math.log(0.0005), 0., npoints))\n",
    "\n",
    "#     First = True\n",
    "#     tpr_array = np.array([])\n",
    "#     auc_array = []\n",
    "    \n",
    "#     for fold in folds:\n",
    "#       this_fpr         = np.array(fprs[label][fold])\n",
    "#       this_tpr         = np.array(tprs[label][fold])\n",
    "#       tpr_interpolated = interp(base_fpr, this_fpr, this_tpr)\n",
    "#       tpr_interpolated = tpr_interpolated.reshape((1,npoints))\n",
    "#       tpr_array        = np.concatenate([tpr_array, tpr_interpolated], axis=0) if tpr_array.size else tpr_interpolated\n",
    "#       auc_array.append(aucs[label][fold])\n",
    "#       print('aucs[{}][{}]={}'.format(label,fold,aucs[label][fold]))\n",
    "    \n",
    "\n",
    "#         mean_tpr  = np.mean(tpr_array, axis=0)\n",
    "#     rms_tpr   = np.std(tpr_array, axis=0)\n",
    "#     plus_tpr  = np.minimum(mean_tpr+rms_tpr, np.ones(npoints))\n",
    "#     minus_tpr = np.maximum(mean_tpr-rms_tpr,np.zeros(npoints))\n",
    "#     avg_tpr   = mean_tpr\n",
    "\n",
    "#     auc_array = np.array(auc_array)\n",
    "#     Mean_AUC  = float(np.mean(auc_array, axis=0))\n",
    "#     RMS_AUC   = float(np.std(auc_array, axis=0))\n",
    "    \n",
    "#     print('label')\n",
    "#     print(label)\n",
    "#     print('Mean_AUC' )\n",
    "#     print(Mean_AUC )\n",
    "#     print('RMS_AUC ')\n",
    "#     print(RMS_AUC)\n",
    "#     print('{}) AUC = {} pm {}'.format(label,Mean_AUC,RMS_AUC))\n",
    "\n",
    "#     plt.plot(base_fpr,avg_tpr,label=r'{} (AUC = {:.4f} $\\pm$ {:.4f})'.format(label.replace('j_',''),Mean_AUC,RMS_AUC), linewidth=1.5, color=colors[i])\n",
    "#     plt.fill_between(base_fpr, minus_tpr, plus_tpr, alpha=0.3, color=colors[i])\n",
    "\n",
    "#   plt.semilogx()\n",
    "#   plt.ylabel(\"True Positive Rate\")\n",
    "#   plt.xlabel(\"False Positive Rate\")\n",
    "#   plt.xlim(0.0005,1.)\n",
    "#   plt.ylim(0.2,1.2)\n",
    "#   add_logo(ax, fig, 0.3, position='upper right')\n"
   ]
  },
  {
   "cell_type": "code",
   "execution_count": null,
   "metadata": {},
   "outputs": [],
   "source": []
  },
  {
   "cell_type": "code",
   "execution_count": null,
   "metadata": {},
   "outputs": [],
   "source": [
    "import math\n",
    "interp_tpr={}\n",
    "# base = np.exp(np.linspace(math.log(0.0000005), 0., 1000000)) # bc we are interested in the loglog plot later! :)\n",
    "base = np.linspace(math.log(0.0000005), 0., 1000000) # bc we are interested in the loglog plot later! :)\n",
    "\n",
    "for i in range(0,5):\n",
    "    interp_tpr[i] = interp(base, fprs[i], tprs[i])"
   ]
  },
  {
   "cell_type": "code",
   "execution_count": null,
   "metadata": {},
   "outputs": [],
   "source": [
    "for i in range(0,5):\n",
    "    plt.plot(fprs[i], tprs[i])\n",
    "    plt.plot(base, interp_tpr[i])\n",
    "    plt.semilogx()\n",
    "    plt.semilogy()\n"
   ]
  },
  {
   "cell_type": "code",
   "execution_count": null,
   "metadata": {},
   "outputs": [],
   "source": [
    "datasets = list(interp_tpr.values())\n",
    "std_dev = np.std(datasets, axis=0)\n",
    "base_mean = np.mean(datasets, axis=0)"
   ]
  },
  {
   "cell_type": "code",
   "execution_count": null,
   "metadata": {},
   "outputs": [],
   "source": [
    "np.unique(std_dev)"
   ]
  },
  {
   "cell_type": "code",
   "execution_count": null,
   "metadata": {},
   "outputs": [],
   "source": [
    "plt.plot(fprs[0], tprs[0])\n",
    "plt.plot(base, base_mean)\n",
    "\n",
    "plt.fill_between(base, base_mean - std_dev, base_mean + std_dev)\n",
    "        #     tpr,\n",
    "        #     fprs[idx] - fprs_errs[idx],\n",
    "        #     fprs[idx] + fprs_errs[idx],\n",
    "        #     color=cols[idx],\n",
    "        #     alpha=0.5,\n",
    "        # )\n",
    "# plt.plot(base, newww)\n",
    "# plt.plot(fprs[0], tprs[0])\n",
    "\n",
    "plt.semilogx()\n",
    "plt.semilogy()\n",
    "plt.xlim(0.0001, 0.001)\n",
    "plt.ylim(0.001, 0.01)"
   ]
  },
  {
   "cell_type": "code",
   "execution_count": null,
   "metadata": {},
   "outputs": [],
   "source": [
    "# plt.plot(\n",
    "#             tpr,\n",
    "#             fprs[idx],\n",
    "#             color=cols[idx],\n",
    "#             label=f\"{label}: {aucs[idx]*100:.1f}%; FAT: {fats[idx]:.4f} $\\\\pm$ {fats_errs[idx]:.4f}\",\n",
    "#         )\n",
    "#         plt.fill_between(\n",
    "#             tpr,\n",
    "#             fprs[idx] - fprs_errs[idx],\n",
    "#             fprs[idx] + fprs_errs[idx],\n",
    "#             color=cols[idx],\n",
    "#             alpha=0.5,\n",
    "#         )"
   ]
  },
  {
   "cell_type": "code",
   "execution_count": null,
   "metadata": {},
   "outputs": [],
   "source": [
    "plt.plot(base, newww)\n",
    "plt.plot(fprs[0], tprs[0])\n",
    "\n",
    "plt.semilogx()\n",
    "plt.semilogy()"
   ]
  },
  {
   "cell_type": "code",
   "execution_count": null,
   "metadata": {},
   "outputs": [],
   "source": [
    "len(base_fpr)"
   ]
  },
  {
   "cell_type": "code",
   "execution_count": null,
   "metadata": {},
   "outputs": [],
   "source": [
    "for i in range(0,5):\n",
    "    print(len(fprs[i]))\n"
   ]
  },
  {
   "cell_type": "code",
   "execution_count": null,
   "metadata": {},
   "outputs": [],
   "source": []
  },
  {
   "cell_type": "code",
   "execution_count": null,
   "metadata": {},
   "outputs": [],
   "source": [
    "import matplotlib.pyplot as plt\n",
    "plt.plot(fprs[0],tprs[0])\n",
    "plt.plot(fprs[1],tprs[1])\n",
    "plt.plot(fprs[2],tprs[2])\n",
    "plt.plot(fprs[3],tprs[3])\n",
    "plt.plot(fprs[4],tprs[4])\n",
    "plt.semilogx()\n",
    "plt.semilogy()"
   ]
  },
  {
   "cell_type": "code",
   "execution_count": null,
   "metadata": {},
   "outputs": [],
   "source": [
    "np.mean()"
   ]
  },
  {
   "cell_type": "code",
   "execution_count": null,
   "metadata": {},
   "outputs": [],
   "source": [
    "import numpy as np"
   ]
  },
  {
   "cell_type": "code",
   "execution_count": null,
   "metadata": {},
   "outputs": [],
   "source": [
    "x_train, x_test = dataset.create_xtrain_xtest()\n",
    "signal = dataset.load_dataset('BSM_preprocessed.h5', 'GluGluHToTauTau')"
   ]
  },
  {
   "cell_type": "code",
   "execution_count": null,
   "metadata": {},
   "outputs": [],
   "source": [
    "rands = [0,1,2,3,4]  \n",
    "for i in rands:\n",
    "    kwargs = {'ndim': 1, 'ntrees':100, 'scoring_metric':'depth', 'random_seed': i}\n",
    "    model_name = metrics.train_and_save_model(kwargs, x_train)\n",
    "    fpr, tpr, auc = metrics.predict_value(model=model_name, x_test=x_test, signal=signal)"
   ]
  },
  {
   "cell_type": "code",
   "execution_count": null,
   "metadata": {},
   "outputs": [],
   "source": []
  },
  {
   "cell_type": "code",
   "execution_count": null,
   "metadata": {},
   "outputs": [],
   "source": []
  },
  {
   "cell_type": "code",
   "execution_count": null,
   "metadata": {},
   "outputs": [],
   "source": []
  },
  {
   "cell_type": "code",
   "execution_count": null,
   "metadata": {},
   "outputs": [],
   "source": [
    "rands = [0, 1, 2, 3, 4]  \n",
    "\n",
    "model_names = {}\n",
    "fprs = {}\n",
    "tprs = {}\n",
    "aucs = {}\n",
    "\n",
    "for i in rands:\n",
    "    kwargs = {'ndim': 1, 'ntrees': 100, 'scoring_metric': 'depth', 'random_seed': i}\n",
    "    model_names[i] = metrics.train_and_save_model(kwargs, x_train)\n",
    "    fprs[i], tprs[i], aucs[i] = metrics.predict_value(model=model_names[i], x_test=x_test, signal=signal)"
   ]
  },
  {
   "cell_type": "code",
   "execution_count": null,
   "metadata": {},
   "outputs": [],
   "source": [
    "tprs"
   ]
  },
  {
   "cell_type": "code",
   "execution_count": null,
   "metadata": {},
   "outputs": [],
   "source": [
    "import statistics\n",
    "\n",
    "# Calculate the standard deviation\n",
    "std_dev = statistics.stdev(aucs.values())\n",
    "\n",
    "print(\"Standard deviation:\", std_dev)"
   ]
  },
  {
   "cell_type": "code",
   "execution_count": null,
   "metadata": {},
   "outputs": [],
   "source": [
    "aucs"
   ]
  },
  {
   "cell_type": "code",
   "execution_count": null,
   "metadata": {},
   "outputs": [],
   "source": [
    "import matplotlib.pyplot as plt\n",
    "plt.plot(fpr, tpr)\n",
    "plt.semilogx()\n",
    "plt.semilogy()"
   ]
  }
 ],
 "metadata": {
  "kernelspec": {
   "display_name": "SP",
   "language": "python",
   "name": "python3"
  },
  "language_info": {
   "codemirror_mode": {
    "name": "ipython",
    "version": 3
   },
   "file_extension": ".py",
   "mimetype": "text/x-python",
   "name": "python",
   "nbconvert_exporter": "python",
   "pygments_lexer": "ipython3",
   "version": "3.10.12"
  }
 },
 "nbformat": 4,
 "nbformat_minor": 2
}
