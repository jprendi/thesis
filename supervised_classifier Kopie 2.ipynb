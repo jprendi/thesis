{
 "cells": [
  {
   "cell_type": "code",
   "execution_count": 1,
   "metadata": {},
   "outputs": [
    {
     "name": "stderr",
     "output_type": "stream",
     "text": [
      "2024-03-21 16:54:49.100163: I tensorflow/core/platform/cpu_feature_guard.cc:193] This TensorFlow binary is optimized with oneAPI Deep Neural Network Library (oneDNN) to use the following CPU instructions in performance-critical operations:  SSE4.1 SSE4.2 AVX AVX2 FMA\n",
      "To enable them in other operations, rebuild TensorFlow with the appropriate compiler flags.\n"
     ]
    }
   ],
   "source": [
    "from tensorflow.keras.utils import to_categorical\n",
    "from sklearn.datasets import fetch_openml\n",
    "from sklearn.model_selection import train_test_split\n",
    "from sklearn.preprocessing import LabelEncoder, StandardScaler\n",
    "import numpy as np"
   ]
  },
  {
   "cell_type": "code",
   "execution_count": 2,
   "metadata": {},
   "outputs": [],
   "source": [
    "%matplotlib inline\n",
    "seed = 1\n",
    "np.random.seed(seed)\n",
    "import tensorflow as tf"
   ]
  },
  {
   "cell_type": "code",
   "execution_count": 3,
   "metadata": {},
   "outputs": [],
   "source": [
    "from stuff.callbacks import all_callbacks\n",
    "from stuff import plotting"
   ]
  },
  {
   "cell_type": "code",
   "execution_count": 4,
   "metadata": {},
   "outputs": [],
   "source": [
    "tf.random.set_seed(seed)"
   ]
  },
  {
   "cell_type": "code",
   "execution_count": 5,
   "metadata": {},
   "outputs": [],
   "source": [
    "from scripts import dataset"
   ]
  },
  {
   "cell_type": "code",
   "execution_count": 6,
   "metadata": {},
   "outputs": [],
   "source": [
    "bkg = dataset.load_dataset(dataset='NuGun_preprocessed.h5', key='full_data_cyl')\n",
    "sig = dataset.load_dataset(dataset='BSM_preprocessed.h5', key='ggXToYYTo2Mu2E_m18')"
   ]
  },
  {
   "cell_type": "code",
   "execution_count": 7,
   "metadata": {},
   "outputs": [],
   "source": [
    "x = np.concatenate((bkg, sig))\n",
    "y = np.concatenate((np.zeros((len(bkg), 1)), np.ones((len(sig), 1))))\n"
   ]
  },
  {
   "cell_type": "code",
   "execution_count": 8,
   "metadata": {},
   "outputs": [
    {
     "data": {
      "text/plain": [
       "(10048853, 1)"
      ]
     },
     "execution_count": 8,
     "metadata": {},
     "output_type": "execute_result"
    }
   ],
   "source": [
    "np.shape(y)"
   ]
  },
  {
   "cell_type": "code",
   "execution_count": null,
   "metadata": {},
   "outputs": [],
   "source": []
  },
  {
   "cell_type": "code",
   "execution_count": 9,
   "metadata": {},
   "outputs": [
    {
     "name": "stderr",
     "output_type": "stream",
     "text": [
      "/Users/jessicaprendi/opt/anaconda3/envs/SP/lib/python3.10/site-packages/sklearn/preprocessing/_label.py:114: DataConversionWarning: A column-vector y was passed when a 1d array was expected. Please change the shape of y to (n_samples, ), for example using ravel().\n",
      "  y = column_or_1d(y, warn=True)\n"
     ]
    }
   ],
   "source": [
    "le = LabelEncoder()\n",
    "y = le.fit_transform(y)\n",
    "y = to_categorical(y)\n",
    "X_train_val, X_test, y_train_val, y_test = train_test_split(x, y, test_size=0.2, random_state=1)"
   ]
  },
  {
   "cell_type": "code",
   "execution_count": 10,
   "metadata": {},
   "outputs": [],
   "source": [
    "scaler = StandardScaler()\n",
    "X_train_val = scaler.fit_transform(X_train_val)\n",
    "X_test = scaler.transform(X_test)"
   ]
  },
  {
   "cell_type": "code",
   "execution_count": 19,
   "metadata": {},
   "outputs": [],
   "source": [
    "from tensorflow.keras.models import Sequential\n",
    "from tensorflow.keras.layers import Dense, Activation, BatchNormalization\n",
    "from tensorflow.keras.optimizers import Adam\n",
    "from tensorflow.keras.regularizers import l1\n"
   ]
  },
  {
   "cell_type": "code",
   "execution_count": 20,
   "metadata": {},
   "outputs": [],
   "source": [
    "model = Sequential()\n",
    "model.add(Dense(64, input_shape=(99,), name='fc1', kernel_initializer='lecun_uniform', kernel_regularizer=l1(0.0001)))\n",
    "model.add(Activation(activation='relu', name='relu1'))\n",
    "model.add(Dense(32, name='fc2', kernel_initializer='lecun_uniform', kernel_regularizer=l1(0.0001)))\n",
    "model.add(Activation(activation='relu', name='relu2'))\n",
    "model.add(Dense(32, name='fc3', kernel_initializer='lecun_uniform', kernel_regularizer=l1(0.0001)))\n",
    "model.add(Activation(activation='relu', name='relu3'))\n",
    "model.add(Dense(64, name='fc4', kernel_initializer='lecun_uniform', kernel_regularizer=l1(0.0001)))\n",
    "model.add(Activation(activation='relu', name='relu4'))\n",
    "model.add(Dense(2, name='output', kernel_initializer='lecun_uniform', kernel_regularizer=l1(0.0001)))\n",
    "model.add(Activation(activation='softmax', name='softmax'))"
   ]
  },
  {
   "cell_type": "code",
   "execution_count": 21,
   "metadata": {},
   "outputs": [
    {
     "name": "stderr",
     "output_type": "stream",
     "text": [
      "WARNING:absl:`lr` is deprecated, please use `learning_rate` instead, or use the legacy optimizer, e.g.,tf.keras.optimizers.legacy.Adam.\n"
     ]
    },
    {
     "name": "stdout",
     "output_type": "stream",
     "text": [
      "WARNING:tensorflow:`epsilon` argument is deprecated and will be removed, use `min_delta` instead.\n"
     ]
    },
    {
     "name": "stderr",
     "output_type": "stream",
     "text": [
      "WARNING:tensorflow:`epsilon` argument is deprecated and will be removed, use `min_delta` instead.\n"
     ]
    },
    {
     "name": "stdout",
     "output_type": "stream",
     "text": [
      "WARNING:tensorflow:`period` argument is deprecated. Please use `save_freq` to specify the frequency in number of batches seen.\n"
     ]
    },
    {
     "name": "stderr",
     "output_type": "stream",
     "text": [
      "WARNING:tensorflow:`period` argument is deprecated. Please use `save_freq` to specify the frequency in number of batches seen.\n"
     ]
    },
    {
     "name": "stdout",
     "output_type": "stream",
     "text": [
      "Epoch 1/30\n",
      "   1/5888 [..............................] - ETA: 2:37:01 - loss: 0.7539 - accuracy: 0.9307WARNING:tensorflow:Callback method `on_train_batch_end` is slow compared to the batch time (batch time: 0.0033s vs `on_train_batch_end` time: 0.0042s). Check your callbacks.\n"
     ]
    },
    {
     "name": "stderr",
     "output_type": "stream",
     "text": [
      "WARNING:tensorflow:Callback method `on_train_batch_end` is slow compared to the batch time (batch time: 0.0033s vs `on_train_batch_end` time: 0.0042s). Check your callbacks.\n"
     ]
    },
    {
     "name": "stdout",
     "output_type": "stream",
     "text": [
      "5883/5888 [============================>.] - ETA: 0s - loss: 0.0912 - accuracy: 0.9812\n",
      "***callbacks***\n",
      "saving losses to model_2/losses.log\n",
      "\n",
      "Epoch 1: val_loss improved from inf to 0.07620, saving model to model_2/KERAS_check_best_model.h5\n",
      "\n",
      "Epoch 1: val_loss improved from inf to 0.07620, saving model to model_2/KERAS_check_best_model_weights.h5\n",
      "\n",
      "Epoch 1: saving model to model_2/KERAS_check_model_last.h5\n",
      "\n",
      "Epoch 1: saving model to model_2/KERAS_check_model_last_weights.h5\n",
      "\n",
      "***callbacks end***\n",
      "\n",
      "5888/5888 [==============================] - 27s 4ms/step - loss: 0.0912 - accuracy: 0.9813 - val_loss: 0.0762 - val_accuracy: 0.9814 - lr: 0.0010\n",
      "Epoch 2/30\n",
      "5887/5888 [============================>.] - ETA: 0s - loss: 0.0753 - accuracy: 0.9816\n",
      "***callbacks***\n",
      "saving losses to model_2/losses.log\n",
      "\n",
      "Epoch 2: val_loss improved from 0.07620 to 0.07486, saving model to model_2/KERAS_check_best_model.h5\n",
      "\n",
      "Epoch 2: val_loss improved from 0.07620 to 0.07486, saving model to model_2/KERAS_check_best_model_weights.h5\n",
      "\n",
      "Epoch 2: saving model to model_2/KERAS_check_model_last.h5\n",
      "\n",
      "Epoch 2: saving model to model_2/KERAS_check_model_last_weights.h5\n",
      "\n",
      "***callbacks end***\n",
      "\n",
      "5888/5888 [==============================] - 21s 3ms/step - loss: 0.0753 - accuracy: 0.9816 - val_loss: 0.0749 - val_accuracy: 0.9816 - lr: 0.0010\n",
      "Epoch 3/30\n",
      "5876/5888 [============================>.] - ETA: 0s - loss: 0.0746 - accuracy: 0.9817\n",
      "***callbacks***\n",
      "saving losses to model_2/losses.log\n",
      "\n",
      "Epoch 3: val_loss improved from 0.07486 to 0.07434, saving model to model_2/KERAS_check_best_model.h5\n",
      "\n",
      "Epoch 3: val_loss improved from 0.07486 to 0.07434, saving model to model_2/KERAS_check_best_model_weights.h5\n",
      "\n",
      "Epoch 3: saving model to model_2/KERAS_check_model_last.h5\n",
      "\n",
      "Epoch 3: saving model to model_2/KERAS_check_model_last_weights.h5\n",
      "\n",
      "***callbacks end***\n",
      "\n",
      "5888/5888 [==============================] - 21s 4ms/step - loss: 0.0746 - accuracy: 0.9817 - val_loss: 0.0743 - val_accuracy: 0.9817 - lr: 0.0010\n",
      "Epoch 4/30\n",
      "5882/5888 [============================>.] - ETA: 0s - loss: 0.0743 - accuracy: 0.9817\n",
      "***callbacks***\n",
      "saving losses to model_2/losses.log\n",
      "\n",
      "Epoch 4: val_loss improved from 0.07434 to 0.07416, saving model to model_2/KERAS_check_best_model.h5\n",
      "\n",
      "Epoch 4: val_loss improved from 0.07434 to 0.07416, saving model to model_2/KERAS_check_best_model_weights.h5\n",
      "\n",
      "Epoch 4: saving model to model_2/KERAS_check_model_last.h5\n",
      "\n",
      "Epoch 4: saving model to model_2/KERAS_check_model_last_weights.h5\n",
      "\n",
      "***callbacks end***\n",
      "\n",
      "5888/5888 [==============================] - 21s 4ms/step - loss: 0.0743 - accuracy: 0.9817 - val_loss: 0.0742 - val_accuracy: 0.9817 - lr: 0.0010\n",
      "Epoch 5/30\n",
      "5885/5888 [============================>.] - ETA: 0s - loss: 0.0740 - accuracy: 0.9817\n",
      "***callbacks***\n",
      "saving losses to model_2/losses.log\n",
      "\n",
      "Epoch 5: val_loss did not improve from 0.07416\n",
      "\n",
      "Epoch 5: val_loss did not improve from 0.07416\n",
      "\n",
      "Epoch 5: saving model to model_2/KERAS_check_model_last.h5\n",
      "\n",
      "Epoch 5: saving model to model_2/KERAS_check_model_last_weights.h5\n",
      "\n",
      "***callbacks end***\n",
      "\n",
      "5888/5888 [==============================] - 19s 3ms/step - loss: 0.0740 - accuracy: 0.9817 - val_loss: 0.0743 - val_accuracy: 0.9815 - lr: 0.0010\n",
      "Epoch 6/30\n",
      "5875/5888 [============================>.] - ETA: 0s - loss: 0.0738 - accuracy: 0.9817\n",
      "***callbacks***\n",
      "saving losses to model_2/losses.log\n",
      "\n",
      "Epoch 6: val_loss improved from 0.07416 to 0.07380, saving model to model_2/KERAS_check_best_model.h5\n",
      "\n",
      "Epoch 6: val_loss improved from 0.07416 to 0.07380, saving model to model_2/KERAS_check_best_model_weights.h5\n",
      "\n",
      "Epoch 6: saving model to model_2/KERAS_check_model_last.h5\n",
      "\n",
      "Epoch 6: saving model to model_2/KERAS_check_model_last_weights.h5\n",
      "\n",
      "***callbacks end***\n",
      "\n",
      "5888/5888 [==============================] - 21s 3ms/step - loss: 0.0738 - accuracy: 0.9817 - val_loss: 0.0738 - val_accuracy: 0.9816 - lr: 0.0010\n",
      "Epoch 7/30\n",
      "5880/5888 [============================>.] - ETA: 0s - loss: 0.0737 - accuracy: 0.9817\n",
      "***callbacks***\n",
      "saving losses to model_2/losses.log\n",
      "\n",
      "Epoch 7: val_loss improved from 0.07380 to 0.07371, saving model to model_2/KERAS_check_best_model.h5\n",
      "\n",
      "Epoch 7: val_loss improved from 0.07380 to 0.07371, saving model to model_2/KERAS_check_best_model_weights.h5\n",
      "\n",
      "Epoch 7: saving model to model_2/KERAS_check_model_last.h5\n",
      "\n",
      "Epoch 7: saving model to model_2/KERAS_check_model_last_weights.h5\n",
      "\n",
      "***callbacks end***\n",
      "\n",
      "5888/5888 [==============================] - 21s 4ms/step - loss: 0.0737 - accuracy: 0.9817 - val_loss: 0.0737 - val_accuracy: 0.9817 - lr: 0.0010\n",
      "Epoch 8/30\n",
      "5885/5888 [============================>.] - ETA: 0s - loss: 0.0736 - accuracy: 0.9817\n",
      "***callbacks***\n",
      "saving losses to model_2/losses.log\n",
      "\n",
      "Epoch 8: val_loss improved from 0.07371 to 0.07363, saving model to model_2/KERAS_check_best_model.h5\n",
      "\n",
      "Epoch 8: val_loss improved from 0.07371 to 0.07363, saving model to model_2/KERAS_check_best_model_weights.h5\n",
      "\n",
      "Epoch 8: saving model to model_2/KERAS_check_model_last.h5\n",
      "\n",
      "Epoch 8: saving model to model_2/KERAS_check_model_last_weights.h5\n",
      "\n",
      "***callbacks end***\n",
      "\n",
      "5888/5888 [==============================] - 26s 4ms/step - loss: 0.0736 - accuracy: 0.9817 - val_loss: 0.0736 - val_accuracy: 0.9817 - lr: 0.0010\n",
      "Epoch 9/30\n",
      "5873/5888 [============================>.] - ETA: 0s - loss: 0.0735 - accuracy: 0.9817\n",
      "***callbacks***\n",
      "saving losses to model_2/losses.log\n",
      "\n",
      "Epoch 9: val_loss improved from 0.07363 to 0.07346, saving model to model_2/KERAS_check_best_model.h5\n",
      "\n",
      "Epoch 9: val_loss improved from 0.07363 to 0.07346, saving model to model_2/KERAS_check_best_model_weights.h5\n",
      "\n",
      "Epoch 9: saving model to model_2/KERAS_check_model_last.h5\n",
      "\n",
      "Epoch 9: saving model to model_2/KERAS_check_model_last_weights.h5\n",
      "\n",
      "***callbacks end***\n",
      "\n",
      "5888/5888 [==============================] - 24s 4ms/step - loss: 0.0735 - accuracy: 0.9817 - val_loss: 0.0735 - val_accuracy: 0.9817 - lr: 0.0010\n",
      "Epoch 10/30\n",
      "5884/5888 [============================>.] - ETA: 0s - loss: 0.0735 - accuracy: 0.9817\n",
      "***callbacks***\n",
      "saving losses to model_2/losses.log\n",
      "\n",
      "Epoch 10: val_loss did not improve from 0.07346\n",
      "\n",
      "Epoch 10: val_loss did not improve from 0.07346\n",
      "\n",
      "Epoch 10: saving model to model_2/KERAS_check_model_last.h5\n",
      "\n",
      "Epoch 10: saving model to model_2/KERAS_check_model_last_weights.h5\n",
      "\n",
      "Epoch 10: saving model to model_2/KERAS_check_model_epoch10.h5\n",
      "\n",
      "***callbacks end***\n",
      "\n",
      "5888/5888 [==============================] - 20s 3ms/step - loss: 0.0735 - accuracy: 0.9817 - val_loss: 0.0737 - val_accuracy: 0.9816 - lr: 0.0010\n",
      "Epoch 11/30\n",
      "5882/5888 [============================>.] - ETA: 0s - loss: 0.0734 - accuracy: 0.9817\n",
      "***callbacks***\n",
      "saving losses to model_2/losses.log\n",
      "\n",
      "Epoch 11: val_loss did not improve from 0.07346\n",
      "\n",
      "Epoch 11: val_loss did not improve from 0.07346\n",
      "\n",
      "Epoch 11: saving model to model_2/KERAS_check_model_last.h5\n",
      "\n",
      "Epoch 11: saving model to model_2/KERAS_check_model_last_weights.h5\n",
      "\n",
      "***callbacks end***\n",
      "\n",
      "5888/5888 [==============================] - 21s 4ms/step - loss: 0.0734 - accuracy: 0.9817 - val_loss: 0.0736 - val_accuracy: 0.9816 - lr: 0.0010\n",
      "Epoch 12/30\n",
      "5878/5888 [============================>.] - ETA: 0s - loss: 0.0733 - accuracy: 0.9817\n",
      "***callbacks***\n",
      "saving losses to model_2/losses.log\n",
      "\n",
      "Epoch 12: val_loss improved from 0.07346 to 0.07340, saving model to model_2/KERAS_check_best_model.h5\n",
      "\n",
      "Epoch 12: val_loss improved from 0.07346 to 0.07340, saving model to model_2/KERAS_check_best_model_weights.h5\n",
      "\n",
      "Epoch 12: saving model to model_2/KERAS_check_model_last.h5\n",
      "\n",
      "Epoch 12: saving model to model_2/KERAS_check_model_last_weights.h5\n",
      "\n",
      "***callbacks end***\n",
      "\n",
      "5888/5888 [==============================] - 21s 4ms/step - loss: 0.0734 - accuracy: 0.9817 - val_loss: 0.0734 - val_accuracy: 0.9817 - lr: 0.0010\n",
      "Epoch 13/30\n",
      "5878/5888 [============================>.] - ETA: 0s - loss: 0.0733 - accuracy: 0.9817\n",
      "***callbacks***\n",
      "saving losses to model_2/losses.log\n",
      "\n",
      "Epoch 13: val_loss did not improve from 0.07340\n",
      "\n",
      "Epoch 13: val_loss did not improve from 0.07340\n",
      "\n",
      "Epoch 13: saving model to model_2/KERAS_check_model_last.h5\n",
      "\n",
      "Epoch 13: saving model to model_2/KERAS_check_model_last_weights.h5\n",
      "\n",
      "***callbacks end***\n",
      "\n",
      "5888/5888 [==============================] - 23s 4ms/step - loss: 0.0734 - accuracy: 0.9817 - val_loss: 0.0734 - val_accuracy: 0.9817 - lr: 0.0010\n",
      "Epoch 14/30\n",
      "5886/5888 [============================>.] - ETA: 0s - loss: 0.0733 - accuracy: 0.9817\n",
      "***callbacks***\n",
      "saving losses to model_2/losses.log\n",
      "\n",
      "Epoch 14: val_loss did not improve from 0.07340\n",
      "\n",
      "Epoch 14: val_loss did not improve from 0.07340\n",
      "\n",
      "Epoch 14: saving model to model_2/KERAS_check_model_last.h5\n",
      "\n",
      "Epoch 14: saving model to model_2/KERAS_check_model_last_weights.h5\n",
      "\n",
      "***callbacks end***\n",
      "\n",
      "5888/5888 [==============================] - 23s 4ms/step - loss: 0.0733 - accuracy: 0.9817 - val_loss: 0.0734 - val_accuracy: 0.9817 - lr: 0.0010\n",
      "Epoch 15/30\n",
      "5884/5888 [============================>.] - ETA: 0s - loss: 0.0733 - accuracy: 0.9817\n",
      "***callbacks***\n",
      "saving losses to model_2/losses.log\n",
      "\n",
      "Epoch 15: val_loss improved from 0.07340 to 0.07325, saving model to model_2/KERAS_check_best_model.h5\n",
      "\n",
      "Epoch 15: val_loss improved from 0.07340 to 0.07325, saving model to model_2/KERAS_check_best_model_weights.h5\n",
      "\n",
      "Epoch 15: saving model to model_2/KERAS_check_model_last.h5\n",
      "\n",
      "Epoch 15: saving model to model_2/KERAS_check_model_last_weights.h5\n",
      "\n",
      "***callbacks end***\n",
      "\n",
      "5888/5888 [==============================] - 23s 4ms/step - loss: 0.0733 - accuracy: 0.9817 - val_loss: 0.0732 - val_accuracy: 0.9817 - lr: 0.0010\n",
      "Epoch 16/30\n",
      "5878/5888 [============================>.] - ETA: 0s - loss: 0.0733 - accuracy: 0.9817\n",
      "***callbacks***\n",
      "saving losses to model_2/losses.log\n",
      "\n",
      "Epoch 16: val_loss did not improve from 0.07325\n",
      "\n",
      "Epoch 16: val_loss did not improve from 0.07325\n",
      "\n",
      "Epoch 16: saving model to model_2/KERAS_check_model_last.h5\n",
      "\n",
      "Epoch 16: saving model to model_2/KERAS_check_model_last_weights.h5\n",
      "\n",
      "***callbacks end***\n",
      "\n",
      "5888/5888 [==============================] - 20s 3ms/step - loss: 0.0733 - accuracy: 0.9817 - val_loss: 0.0734 - val_accuracy: 0.9816 - lr: 0.0010\n",
      "Epoch 17/30\n",
      "5876/5888 [============================>.] - ETA: 0s - loss: 0.0733 - accuracy: 0.9818\n",
      "***callbacks***\n",
      "saving losses to model_2/losses.log\n",
      "\n",
      "Epoch 17: val_loss did not improve from 0.07325\n",
      "\n",
      "Epoch 17: val_loss did not improve from 0.07325\n",
      "\n",
      "Epoch 17: saving model to model_2/KERAS_check_model_last.h5\n",
      "\n",
      "Epoch 17: saving model to model_2/KERAS_check_model_last_weights.h5\n",
      "\n",
      "***callbacks end***\n",
      "\n",
      "5888/5888 [==============================] - 21s 4ms/step - loss: 0.0733 - accuracy: 0.9818 - val_loss: 0.0733 - val_accuracy: 0.9817 - lr: 0.0010\n",
      "Epoch 18/30\n",
      "5882/5888 [============================>.] - ETA: 0s - loss: 0.0733 - accuracy: 0.9817\n",
      "***callbacks***\n",
      "saving losses to model_2/losses.log\n",
      "\n",
      "Epoch 18: val_loss did not improve from 0.07325\n",
      "\n",
      "Epoch 18: val_loss did not improve from 0.07325\n",
      "\n",
      "Epoch 18: saving model to model_2/KERAS_check_model_last.h5\n",
      "\n",
      "Epoch 18: saving model to model_2/KERAS_check_model_last_weights.h5\n",
      "\n",
      "***callbacks end***\n",
      "\n",
      "5888/5888 [==============================] - 20s 3ms/step - loss: 0.0733 - accuracy: 0.9817 - val_loss: 0.0733 - val_accuracy: 0.9817 - lr: 0.0010\n",
      "Epoch 19/30\n",
      "5874/5888 [============================>.] - ETA: 0s - loss: 0.0733 - accuracy: 0.9817\n",
      "***callbacks***\n",
      "saving losses to model_2/losses.log\n",
      "\n",
      "Epoch 19: val_loss did not improve from 0.07325\n",
      "\n",
      "Epoch 19: val_loss did not improve from 0.07325\n",
      "\n",
      "Epoch 19: saving model to model_2/KERAS_check_model_last.h5\n",
      "\n",
      "Epoch 19: saving model to model_2/KERAS_check_model_last_weights.h5\n",
      "\n",
      "***callbacks end***\n",
      "\n",
      "5888/5888 [==============================] - 21s 4ms/step - loss: 0.0733 - accuracy: 0.9817 - val_loss: 0.0734 - val_accuracy: 0.9816 - lr: 0.0010\n",
      "Epoch 20/30\n",
      "5877/5888 [============================>.] - ETA: 0s - loss: 0.0733 - accuracy: 0.9817\n",
      "***callbacks***\n",
      "saving losses to model_2/losses.log\n",
      "\n",
      "Epoch 20: val_loss did not improve from 0.07325\n",
      "\n",
      "Epoch 20: val_loss did not improve from 0.07325\n",
      "\n",
      "Epoch 20: saving model to model_2/KERAS_check_model_last.h5\n",
      "\n",
      "Epoch 20: saving model to model_2/KERAS_check_model_last_weights.h5\n",
      "\n",
      "Epoch 20: saving model to model_2/KERAS_check_model_epoch20.h5\n",
      "\n",
      "***callbacks end***\n",
      "\n",
      "5888/5888 [==============================] - 26s 4ms/step - loss: 0.0733 - accuracy: 0.9817 - val_loss: 0.0733 - val_accuracy: 0.9817 - lr: 0.0010\n",
      "Epoch 21/30\n",
      "5883/5888 [============================>.] - ETA: 0s - loss: 0.0732 - accuracy: 0.9818\n",
      "***callbacks***\n",
      "saving losses to model_2/losses.log\n",
      "\n",
      "Epoch 21: val_loss improved from 0.07325 to 0.07316, saving model to model_2/KERAS_check_best_model.h5\n",
      "\n",
      "Epoch 21: val_loss improved from 0.07325 to 0.07316, saving model to model_2/KERAS_check_best_model_weights.h5\n",
      "\n",
      "Epoch 21: saving model to model_2/KERAS_check_model_last.h5\n",
      "\n",
      "Epoch 21: saving model to model_2/KERAS_check_model_last_weights.h5\n",
      "\n",
      "***callbacks end***\n",
      "\n",
      "5888/5888 [==============================] - 22s 4ms/step - loss: 0.0732 - accuracy: 0.9818 - val_loss: 0.0732 - val_accuracy: 0.9817 - lr: 0.0010\n",
      "Epoch 22/30\n",
      "5877/5888 [============================>.] - ETA: 0s - loss: 0.0732 - accuracy: 0.9818\n",
      "***callbacks***\n",
      "saving losses to model_2/losses.log\n",
      "\n",
      "Epoch 22: val_loss did not improve from 0.07316\n",
      "\n",
      "Epoch 22: val_loss did not improve from 0.07316\n",
      "\n",
      "Epoch 22: saving model to model_2/KERAS_check_model_last.h5\n",
      "\n",
      "Epoch 22: saving model to model_2/KERAS_check_model_last_weights.h5\n",
      "\n",
      "***callbacks end***\n",
      "\n",
      "5888/5888 [==============================] - 23s 4ms/step - loss: 0.0732 - accuracy: 0.9818 - val_loss: 0.0732 - val_accuracy: 0.9817 - lr: 0.0010\n",
      "Epoch 23/30\n",
      "5878/5888 [============================>.] - ETA: 0s - loss: 0.0732 - accuracy: 0.9818\n",
      "***callbacks***\n",
      "saving losses to model_2/losses.log\n",
      "\n",
      "Epoch 23: val_loss did not improve from 0.07316\n",
      "\n",
      "Epoch 23: val_loss did not improve from 0.07316\n",
      "\n",
      "Epoch 23: saving model to model_2/KERAS_check_model_last.h5\n",
      "\n",
      "Epoch 23: saving model to model_2/KERAS_check_model_last_weights.h5\n",
      "\n",
      "***callbacks end***\n",
      "\n",
      "5888/5888 [==============================] - 21s 4ms/step - loss: 0.0732 - accuracy: 0.9818 - val_loss: 0.0733 - val_accuracy: 0.9817 - lr: 0.0010\n",
      "Epoch 24/30\n",
      "5879/5888 [============================>.] - ETA: 0s - loss: 0.0731 - accuracy: 0.9817\n",
      "***callbacks***\n",
      "saving losses to model_2/losses.log\n",
      "\n",
      "Epoch 24: val_loss did not improve from 0.07316\n",
      "\n",
      "Epoch 24: val_loss did not improve from 0.07316\n",
      "\n",
      "Epoch 24: saving model to model_2/KERAS_check_model_last.h5\n",
      "\n",
      "Epoch 24: saving model to model_2/KERAS_check_model_last_weights.h5\n",
      "\n",
      "***callbacks end***\n",
      "\n",
      "5888/5888 [==============================] - 20s 3ms/step - loss: 0.0731 - accuracy: 0.9817 - val_loss: 0.0732 - val_accuracy: 0.9817 - lr: 0.0010\n",
      "Epoch 25/30\n",
      "5874/5888 [============================>.] - ETA: 0s - loss: 0.0732 - accuracy: 0.9817\n",
      "***callbacks***\n",
      "saving losses to model_2/losses.log\n",
      "\n",
      "Epoch 25: val_loss did not improve from 0.07316\n",
      "\n",
      "Epoch 25: val_loss did not improve from 0.07316\n",
      "\n",
      "Epoch 25: saving model to model_2/KERAS_check_model_last.h5\n",
      "\n",
      "Epoch 25: saving model to model_2/KERAS_check_model_last_weights.h5\n",
      "\n",
      "***callbacks end***\n",
      "\n",
      "5888/5888 [==============================] - 21s 3ms/step - loss: 0.0732 - accuracy: 0.9817 - val_loss: 0.0732 - val_accuracy: 0.9817 - lr: 0.0010\n",
      "Epoch 26/30\n",
      "5878/5888 [============================>.] - ETA: 0s - loss: 0.0732 - accuracy: 0.9817\n",
      "***callbacks***\n",
      "saving losses to model_2/losses.log\n",
      "\n",
      "Epoch 26: val_loss did not improve from 0.07316\n",
      "\n",
      "Epoch 26: val_loss did not improve from 0.07316\n",
      "\n",
      "Epoch 26: saving model to model_2/KERAS_check_model_last.h5\n",
      "\n",
      "Epoch 26: saving model to model_2/KERAS_check_model_last_weights.h5\n",
      "\n",
      "***callbacks end***\n",
      "\n",
      "5888/5888 [==============================] - 20s 3ms/step - loss: 0.0732 - accuracy: 0.9818 - val_loss: 0.0733 - val_accuracy: 0.9817 - lr: 0.0010\n",
      "Epoch 27/30\n",
      "5888/5888 [==============================] - ETA: 0s - loss: 0.0732 - accuracy: 0.9817\n",
      "***callbacks***\n",
      "saving losses to model_2/losses.log\n",
      "\n",
      "Epoch 27: val_loss did not improve from 0.07316\n",
      "\n",
      "Epoch 27: val_loss did not improve from 0.07316\n",
      "\n",
      "Epoch 27: saving model to model_2/KERAS_check_model_last.h5\n",
      "\n",
      "Epoch 27: saving model to model_2/KERAS_check_model_last_weights.h5\n",
      "\n",
      "***callbacks end***\n",
      "\n",
      "5888/5888 [==============================] - 21s 4ms/step - loss: 0.0732 - accuracy: 0.9817 - val_loss: 0.0733 - val_accuracy: 0.9816 - lr: 0.0010\n",
      "Epoch 28/30\n",
      "5882/5888 [============================>.] - ETA: 0s - loss: 0.0731 - accuracy: 0.9817\n",
      "***callbacks***\n",
      "saving losses to model_2/losses.log\n",
      "\n",
      "Epoch 28: val_loss did not improve from 0.07316\n",
      "\n",
      "Epoch 28: val_loss did not improve from 0.07316\n",
      "\n",
      "Epoch 28: saving model to model_2/KERAS_check_model_last.h5\n",
      "\n",
      "Epoch 28: saving model to model_2/KERAS_check_model_last_weights.h5\n",
      "\n",
      "***callbacks end***\n",
      "\n",
      "5888/5888 [==============================] - 21s 4ms/step - loss: 0.0732 - accuracy: 0.9817 - val_loss: 0.0732 - val_accuracy: 0.9817 - lr: 0.0010\n",
      "Epoch 29/30\n",
      "5873/5888 [============================>.] - ETA: 0s - loss: 0.0731 - accuracy: 0.9817\n",
      "***callbacks***\n",
      "saving losses to model_2/losses.log\n",
      "\n",
      "Epoch 29: val_loss did not improve from 0.07316\n",
      "\n",
      "Epoch 29: val_loss did not improve from 0.07316\n",
      "\n",
      "Epoch 29: saving model to model_2/KERAS_check_model_last.h5\n",
      "\n",
      "Epoch 29: saving model to model_2/KERAS_check_model_last_weights.h5\n",
      "\n",
      "***callbacks end***\n",
      "\n",
      "5888/5888 [==============================] - 21s 4ms/step - loss: 0.0731 - accuracy: 0.9817 - val_loss: 0.0733 - val_accuracy: 0.9816 - lr: 0.0010\n",
      "Epoch 30/30\n",
      "5882/5888 [============================>.] - ETA: 0s - loss: 0.0731 - accuracy: 0.9817\n",
      "***callbacks***\n",
      "saving losses to model_2/losses.log\n",
      "\n",
      "Epoch 30: val_loss improved from 0.07316 to 0.07312, saving model to model_2/KERAS_check_best_model.h5\n",
      "\n",
      "Epoch 30: val_loss improved from 0.07316 to 0.07312, saving model to model_2/KERAS_check_best_model_weights.h5\n",
      "\n",
      "Epoch 30: saving model to model_2/KERAS_check_model_last.h5\n",
      "\n",
      "Epoch 30: saving model to model_2/KERAS_check_model_last_weights.h5\n",
      "\n",
      "Epoch 30: saving model to model_2/KERAS_check_model_epoch30.h5\n",
      "\n",
      "***callbacks end***\n",
      "\n",
      "5888/5888 [==============================] - 21s 4ms/step - loss: 0.0731 - accuracy: 0.9817 - val_loss: 0.0731 - val_accuracy: 0.9817 - lr: 0.0010\n"
     ]
    }
   ],
   "source": [
    "train = True\n",
    "if train:\n",
    "    adam = Adam(lr=0.0001)\n",
    "    model.compile(optimizer=adam, loss=['categorical_crossentropy'], metrics=['accuracy'])\n",
    "    callbacks = all_callbacks(\n",
    "        stop_patience=1000,\n",
    "        lr_factor=0.5,\n",
    "        lr_patience=10,\n",
    "        lr_epsilon=0.000001,\n",
    "        lr_cooldown=2,\n",
    "        lr_minimum=0.0000001,\n",
    "        outputDir='model_2',\n",
    "    )\n",
    "    model.fit(\n",
    "        X_train_val,\n",
    "        y_train_val,\n",
    "        batch_size=1024,\n",
    "        epochs=30,\n",
    "        validation_split=0.25,\n",
    "        shuffle=True,\n",
    "        callbacks=callbacks.callbacks,\n",
    "    )\n",
    "else:\n",
    "    from tensorflow.keras.models import load_model\n",
    "\n",
    "    model = load_model('model_2/KERAS_check_best_model.h5')"
   ]
  },
  {
   "cell_type": "code",
   "execution_count": 22,
   "metadata": {},
   "outputs": [
    {
     "name": "stdout",
     "output_type": "stream",
     "text": [
      "62806/62806 [==============================] - 65s 1ms/step\n",
      "Accuracy: 0.9817934481092622\n"
     ]
    }
   ],
   "source": [
    "import matplotlib.pyplot as plt\n",
    "from sklearn.metrics import accuracy_score\n",
    "\n",
    "y_keras = model.predict(X_test)\n",
    "print(\"Accuracy: {}\".format(accuracy_score(np.argmax(y_test, axis=1), np.argmax(y_keras, axis=1))))"
   ]
  },
  {
   "cell_type": "code",
   "execution_count": 23,
   "metadata": {},
   "outputs": [],
   "source": [
    "#_ = plotting.makeRoc(y_test, y_keras, le.classes_)"
   ]
  },
  {
   "cell_type": "code",
   "execution_count": 24,
   "metadata": {},
   "outputs": [
    {
     "data": {
      "text/plain": [
       "array([0, 0, 0, ..., 0, 0, 0])"
      ]
     },
     "execution_count": 24,
     "metadata": {},
     "output_type": "execute_result"
    }
   ],
   "source": [
    "np.argmax(y_keras, axis=1)"
   ]
  },
  {
   "cell_type": "code",
   "execution_count": 25,
   "metadata": {},
   "outputs": [],
   "source": [
    "from sklearn.metrics import roc_curve, auc"
   ]
  },
  {
   "cell_type": "code",
   "execution_count": 26,
   "metadata": {},
   "outputs": [
    {
     "data": {
      "text/plain": [
       "(2009771, 2)"
      ]
     },
     "execution_count": 26,
     "metadata": {},
     "output_type": "execute_result"
    }
   ],
   "source": [
    "np.shape(y_test)"
   ]
  },
  {
   "cell_type": "code",
   "execution_count": 27,
   "metadata": {},
   "outputs": [],
   "source": [
    "#labels = np.concatenate((np.ones(len(score_1)), np.zeros(len(score_0))))\n",
    "#all = np.concatenate((score_1, score_0))\n",
    "FPR, TPR, _ = roc_curve(y_score=np.max(y_keras, axis=1), y_true=y_test[:,0])\n",
    "AUC = auc(FPR, TPR)"
   ]
  },
  {
   "cell_type": "code",
   "execution_count": 28,
   "metadata": {},
   "outputs": [
    {
     "data": {
      "text/plain": [
       "(2009771, 2)"
      ]
     },
     "execution_count": 28,
     "metadata": {},
     "output_type": "execute_result"
    }
   ],
   "source": [
    "np.shape(y_test)"
   ]
  },
  {
   "cell_type": "code",
   "execution_count": 29,
   "metadata": {},
   "outputs": [
    {
     "data": {
      "text/plain": [
       "(1e-06, 1.05)"
      ]
     },
     "execution_count": 29,
     "metadata": {},
     "output_type": "execute_result"
    },
    {
     "data": {
      "image/png": "[encoded data removed]",
      "text/plain": [
       "<Figure size 640x480 with 1 Axes>"
      ]
     },
     "metadata": {},
     "output_type": "display_data"
    }
   ],
   "source": [
    "plt.plot(FPR, TPR)\n",
    "plt.semilogx()\n",
    "plt.semilogy()\n",
    "plt.xlim([10**-(6), 1.0])\n",
    "plt.ylim([10**-(6), 1.05])"
   ]
  },
  {
   "cell_type": "code",
   "execution_count": 30,
   "metadata": {},
   "outputs": [
    {
     "data": {
      "text/plain": [
       "0.8253634008922305"
      ]
     },
     "execution_count": 30,
     "metadata": {},
     "output_type": "execute_result"
    }
   ],
   "source": [
    "AUC"
   ]
  },
  {
   "cell_type": "code",
   "execution_count": null,
   "metadata": {},
   "outputs": [],
   "source": []
  },
  {
   "cell_type": "code",
   "execution_count": null,
   "metadata": {},
   "outputs": [],
   "source": []
  }
 ],
 "metadata": {
  "kernelspec": {
   "display_name": "SP",
   "language": "python",
   "name": "python3"
  },
  "language_info": {
   "codemirror_mode": {
    "name": "ipython",
    "version": 3
   },
   "file_extension": ".py",
   "mimetype": "text/x-python",
   "name": "python",
   "nbconvert_exporter": "python",
   "pygments_lexer": "ipython3",
   "version": "3.10.12"
  }
 },
 "nbformat": 4,
 "nbformat_minor": 2
}
